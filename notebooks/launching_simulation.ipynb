{
 "cells": [
  {
   "cell_type": "code",
   "execution_count": 2,
   "metadata": {},
   "outputs": [],
   "source": [
    "from openmm import *\n",
    "from openmm.app import *\n",
    "from openmm.unit import *\n",
    "from sys import stdout"
   ]
  },
  {
   "cell_type": "code",
   "execution_count": 2,
   "metadata": {},
   "outputs": [],
   "source": [
    "pdbfile = PDBFile('data/prep_complex.pdb')\n",
    "\n",
    "modeller = Modeller(pdbfile.topology, pdbfile.positions)\n",
    "\n",
    "forcefield = ForceField(\"amber14-all.xml\", \"amber14/tip3p.xml\")\n",
    "modeller.addSolvent(forcefield, model=\"tip3p\", padding=0.5 * nanometer, boxShape='dodecahedron')\n",
    "system = forcefield.createSystem(modeller.topology, nonbondedMethod=PME, constraints=HBonds)\n",
    "temperature = 300 * kelvin\n",
    "pressure = 1 * bar\n",
    "integrator = LangevinMiddleIntegrator(temperature, 1 / picosecond, 2 * femtoseconds)\n",
    "system.addForce(MonteCarloBarostat(pressure, temperature))\n",
    "platform = Platform.getPlatformByName('CUDA')\n",
    "simulation = Simulation(modeller.topology, system, integrator, platform)\n",
    "simulation.context.setPositions(modeller.positions)\n",
    "simulation.minimizeEnergy(maxIterations=500)\n",
    "positions = simulation.context.getState(getPositions=True).getPositions()\n",
    "with open(\"init_romb.pdb\", \"w\") as f:\n",
    "    PDBFile.writeFile(simulation.topology, positions, f)"
   ]
  },
  {
   "cell_type": "code",
   "execution_count": 12,
   "metadata": {},
   "outputs": [],
   "source": [
    "#Or load existing minimized system\n",
    "pdbfile = PDBFile(\"init_romb.pdb\")\n",
    "\n",
    "modeller = Modeller(pdbfile.topology, pdbfile.positions)\n",
    "\n",
    "forcefield = ForceField(\"amber14-all.xml\", \"amber14/tip3pfb.xml\")\n",
    "system = forcefield.createSystem(modeller.topology, nonbondedMethod=PME, constraints=HBonds)\n",
    "temperature = 300 * kelvin\n",
    "pressure = 1 * bar\n",
    "integrator = LangevinIntegrator(temperature, 1 / picosecond, 2 * femtoseconds)\n",
    "system.addForce(MonteCarloBarostat(pressure, temperature))\n",
    "platform = Platform.getPlatformByName('CUDA')\n",
    "simulation = Simulation(modeller.topology, system, integrator, platform)\n",
    "simulation.context.setPositions(modeller.positions)"
   ]
  },
  {
   "cell_type": "code",
   "execution_count": null,
   "metadata": {},
   "outputs": [],
   "source": [
    "simulation.reporters = []\n",
    "simulation.reporters.append(DCDReporter(\"traj.dcd\", 500))\n",
    "simulation.reporters.append(\n",
    "    StateDataReporter(stdout, 100, step=True, temperature=True, elapsedTime=True)\n",
    ")\n",
    "simulation.reporters.append(\n",
    "    StateDataReporter(\n",
    "        \"scalars.csv\",\n",
    "        100,\n",
    "        step=True,\n",
    "        time=True,\n",
    "        potentialEnergy=True,\n",
    "        temperature=True,\n",
    "        volume=True,\n",
    "        density=True\n",
    "    )\n",
    ")\n",
    "simulation.step(5000)\n",
    "\n",
    "# The last line is only needed for Windows users,\n",
    "# to close the DCD file before it can be opened by nglview.\n",
    "del simulation"
   ]
  },
  {
   "cell_type": "code",
   "execution_count": 8,
   "metadata": {},
   "outputs": [],
   "source": [
    "pdbfile = PDBFile('data/prep_complex.pdb')\n",
    "\n",
    "modeller = Modeller(pdbfile.topology, pdbfile.positions)\n",
    "\n",
    "forcefield = ForceField(\"amber14-all.xml\", \"implicit/gbn2.xml\")\n",
    "system = forcefield.createSystem(modeller.topology, nonbondedMethod=CutoffNonPeriodic, nonbondedCutoff=1.5*nanometer, constraints=HBonds,\n",
    "                                 soluteDielectric=1.0, solventDielectric=80.0, implicitSolventKappa=1.0/nanometer)\n",
    "temperature = 300 * kelvin\n",
    "pressure = 1 * bar\n",
    "integrator = LangevinMiddleIntegrator(temperature, 1 / picosecond, 2 * femtoseconds)\n",
    "platform = Platform.getPlatformByName('CUDA')\n",
    "simulation = Simulation(modeller.topology, system, integrator, platform)\n",
    "simulation.context.setPositions(modeller.positions)\n",
    "simulation.minimizeEnergy(maxIterations=500)\n",
    "positions = simulation.context.getState(getPositions=True).getPositions()\n",
    "with open(\"init_impl.pdb\", \"w\") as f:\n",
    "    PDBFile.writeFile(simulation.topology, positions, f)"
   ]
  },
  {
   "cell_type": "code",
   "execution_count": 9,
   "metadata": {},
   "outputs": [
    {
     "name": "stdout",
     "output_type": "stream",
     "text": [
      "#\"Step\",\"Temperature (K)\",\"Elapsed Time (s)\"\n",
      "100,56.37018772956284,8.082389831542969e-05\n"
     ]
    },
    {
     "name": "stdout",
     "output_type": "stream",
     "text": [
      "200,102.3204653319351,0.07141947746276855\n",
      "300,138.21905654599377,0.1212301254272461\n",
      "400,165.2421991752736,0.17021417617797852\n",
      "500,193.8492723064342,0.21898651123046875\n",
      "600,214.74408767920517,0.2686328887939453\n",
      "700,232.3063962340731,0.30188965797424316\n",
      "800,253.20321817715202,0.33396339416503906\n",
      "900,255.39946899610004,0.36577796936035156\n",
      "1000,264.04980082070034,0.3986690044403076\n",
      "1100,263.7416784144228,0.4310016632080078\n",
      "1200,273.72355194212275,0.46372318267822266\n",
      "1300,278.9959084002436,0.496490478515625\n",
      "1400,291.4521856718307,0.5289821624755859\n",
      "1500,289.23275262560634,0.5613107681274414\n",
      "1600,300.1397332646801,0.5934553146362305\n",
      "1700,294.5223318297718,0.6260948181152344\n",
      "1800,296.4713112734847,0.6581456661224365\n",
      "1900,297.01609400020124,0.6901516914367676\n",
      "2000,300.8719961557427,0.7225751876831055\n",
      "2100,304.79935201842216,0.754317045211792\n",
      "2200,310.9497338384184,0.7863674163818359\n",
      "2300,296.4349477505997,0.8193507194519043\n",
      "2400,306.5318702071416,0.8519718647003174\n",
      "2500,303.160570929822,0.8847334384918213\n",
      "2600,304.18380111040454,0.9172639846801758\n",
      "2700,304.4099845652314,0.949854850769043\n",
      "2800,305.39874469852026,0.9825260639190674\n",
      "2900,300.68025594072947,1.014531135559082\n",
      "3000,296.5637665313206,1.0471324920654297\n",
      "3100,301.9258187630786,1.0796325206756592\n",
      "3200,302.5302435902625,1.1124415397644043\n",
      "3300,309.34721811846055,1.1446647644042969\n",
      "3400,299.91900687242884,1.177088975906372\n",
      "3500,305.8199925369689,1.2104365825653076\n",
      "3600,305.78031194768005,1.2435123920440674\n",
      "3700,300.76219352898073,1.2758231163024902\n",
      "3800,295.74425124781595,1.308297872543335\n",
      "3900,306.60913831650896,1.3411924839019775\n",
      "4000,305.89301290083404,1.3738892078399658\n",
      "4100,308.64059504841384,1.4062213897705078\n",
      "4200,307.110391700636,1.4380838871002197\n",
      "4300,300.75072913408684,1.4713447093963623\n",
      "4400,310.1565029846344,1.5038502216339111\n",
      "4500,299.64586829378834,1.5366487503051758\n",
      "4600,304.14750190214005,1.5688261985778809\n",
      "4700,308.6190090612488,1.6008968353271484\n",
      "4800,300.3863153219396,1.6329989433288574\n",
      "4900,302.8959300235067,1.6656427383422852\n",
      "5000,302.85717555065514,1.6981616020202637\n"
     ]
    }
   ],
   "source": [
    "simulation.reporters = []\n",
    "simulation.reporters.append(DCDReporter(\"traj.dcd\", 100))\n",
    "simulation.reporters.append(\n",
    "    StateDataReporter(stdout, 100, step=True, temperature=True, elapsedTime=True)\n",
    ")\n",
    "simulation.reporters.append(\n",
    "    StateDataReporter(\n",
    "        \"scalars.csv\",\n",
    "        10,\n",
    "        step=True,\n",
    "        time=True,\n",
    "        potentialEnergy=True,\n",
    "        totalEnergy=True,\n",
    "        temperature=True\n",
    "    )\n",
    ")\n",
    "simulation.step(5000)\n",
    "\n",
    "# The last line is only needed for Windows users,\n",
    "# to close the DCD file before it can be opened by nglview.\n",
    "del simulation"
   ]
  },
  {
   "cell_type": "code",
   "execution_count": null,
   "metadata": {},
   "outputs": [],
   "source": []
  }
 ],
 "metadata": {
  "kernelspec": {
   "display_name": "openmm2",
   "language": "python",
   "name": "python3"
  },
  "language_info": {
   "codemirror_mode": {
    "name": "ipython",
    "version": 3
   },
   "file_extension": ".py",
   "mimetype": "text/x-python",
   "name": "python",
   "nbconvert_exporter": "python",
   "pygments_lexer": "ipython3",
   "version": "3.11.13"
  }
 },
 "nbformat": 4,
 "nbformat_minor": 2
}
