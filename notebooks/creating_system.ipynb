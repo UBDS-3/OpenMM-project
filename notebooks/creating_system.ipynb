{
 "cells": [
  {
   "cell_type": "code",
   "execution_count": 1,
   "metadata": {},
   "outputs": [],
   "source": [
    "from openmm.app import PDBFile, Modeller\n",
    "\n",
    "pdbfile = PDBFile('data/prep_complex_AAA.pdb')\n",
    "\n",
    "modeller = Modeller(pdbfile.topology, pdbfile.positions)"
   ]
  },
  {
   "cell_type": "code",
   "execution_count": 6,
   "metadata": {},
   "outputs": [],
   "source": [
    "from openmm.app import ForceField\n",
    "\n",
    "ff = ForceField('amber14-all.xml', 'amber14/tip3p.xml')"
   ]
  },
  {
   "cell_type": "markdown",
   "metadata": {},
   "source": [
    "createSystem(topology, nonbondedMethod=NoCutoff, nonbondedCutoff=Quantity(value=1.0, unit=nanometer), constraints=None, rigidWater=True, removeCMMotion=True, hydrogenMass=None, residueTemplates={}, ignoreExternalBonds=False, **args)\n",
    "Construct an OpenMM System representing a Topology with this force field.\n",
    "\n",
    "Parameters:\t\n",
    "topology (Topology) – The Topology for which to create a System\n",
    "\n",
    "nonbondedMethod (object=NoCutoff) – The method to use for nonbonded interactions. Allowed values are NoCutoff, CutoffNonPeriodic, CutoffPeriodic, Ewald, or PME.\n",
    "\n",
    "nonbondedCutoff (distance=1*nanometer) – The cutoff distance to use for nonbonded interactions\n",
    "\n",
    "constraints (object=None) – Specifies which bonds and angles should be implemented with constraints. Allowed values are None, HBonds, AllBonds, or HAngles.\n",
    "\n",
    "rigidWater (boolean=True) – If true, water molecules will be fully rigid regardless of the value passed for the constraints argument\n",
    "\n",
    "removeCMMotion (boolean=True) – If true, a CMMotionRemover will be added to the System\n",
    "\n",
    "hydrogenMass (mass=None) – The mass to use for hydrogen atoms bound to heavy atoms. Any mass added to a hydrogen is subtracted from the heavy atom to keep their total mass the same.\n",
    "\n",
    "residueTemplates (dict=dict()) – Key: Topology Residue object Value: string, name of _TemplateData residue template object to use for (Key) residue. This allows user to specify which template to apply to particular Residues in the event that multiple matching templates are available (e.g Fe2+ and Fe3+ templates in the ForceField for a monoatomic iron ion in the topology).\n",
    "\n",
    "ignoreExternalBonds (boolean=False) – If true, ignore external bonds when matching residues to templates. This is useful when the Topology represents one piece of a larger molecule, so chains are not terminated properly. This option can create ambiguities where multiple templates match the same residue. If that happens, use the residueTemplates argument to specify which one to use.\n"
   ]
  },
  {
   "cell_type": "code",
   "execution_count": null,
   "metadata": {},
   "outputs": [],
   "source": [
    "explicit_system = ff.createSystem()"
   ]
  },
  {
   "cell_type": "code",
   "execution_count": 12,
   "metadata": {},
   "outputs": [],
   "source": [
    "from openmm.app import PDBFile, Modeller\n",
    "from openmm import unit\n",
    "\n",
    "pdbfile = PDBFile('data/prep_complex_AAA.pdb')\n",
    "\n",
    "modeller = Modeller(pdbfile.topology, pdbfile.positions)"
   ]
  },
  {
   "cell_type": "code",
   "execution_count": 13,
   "metadata": {},
   "outputs": [],
   "source": [
    "implicit_ff = ForceField('amber14-all.xml', 'implicit/gbn2.xml')"
   ]
  },
  {
   "cell_type": "code",
   "execution_count": 15,
   "metadata": {},
   "outputs": [],
   "source": [
    "system = implicit_ff.createSystem(modeller.topology, soluteDielectric=1.0, solventDielectric=80.0)\n",
    "#or\n",
    "system = implicit_ff.createSystem(modeller.topology, soluteDielectric=1.0, solventDielectric=80.0, implicitSolventKappa=1.0/unit.nanometer)"
   ]
  }
 ],
 "metadata": {
  "kernelspec": {
   "display_name": "openmm",
   "language": "python",
   "name": "python3"
  },
  "language_info": {
   "codemirror_mode": {
    "name": "ipython",
    "version": 3
   },
   "file_extension": ".py",
   "mimetype": "text/x-python",
   "name": "python",
   "nbconvert_exporter": "python",
   "pygments_lexer": "ipython3",
   "version": "3.13.5"
  }
 },
 "nbformat": 4,
 "nbformat_minor": 2
}
