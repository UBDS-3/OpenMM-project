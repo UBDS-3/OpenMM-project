{
  "cells": [
    {
      "cell_type": "markdown",
      "id": "92733caf",
      "metadata": {
        "id": "92733caf"
      },
      "source": [
        "# Encoding protein sequences for machine learning"
      ]
    },
    {
      "cell_type": "code",
      "source": [
        "from google.colab import drive\n",
        "drive.mount('/content/drive')"
      ],
      "metadata": {
        "colab": {
          "base_uri": "https://localhost:8080/"
        },
        "id": "VA9QprQy4ARU",
        "outputId": "63c510b1-5a35-4284-eb5c-bab4fca08a4b"
      },
      "id": "VA9QprQy4ARU",
      "execution_count": null,
      "outputs": [
        {
          "output_type": "stream",
          "name": "stdout",
          "text": [
            "Mounted at /content/drive\n"
          ]
        }
      ]
    },
    {
      "cell_type": "code",
      "source": [
        "cd drive/MyDrive/Colab\\ Notebooks/"
      ],
      "metadata": {
        "colab": {
          "base_uri": "https://localhost:8080/"
        },
        "id": "z9eSlVSg5B_f",
        "outputId": "641e51e2-d8d5-46dd-a119-ef6433358e99"
      },
      "id": "z9eSlVSg5B_f",
      "execution_count": null,
      "outputs": [
        {
          "output_type": "stream",
          "name": "stdout",
          "text": [
            "/content/drive/MyDrive/Colab Notebooks\n"
          ]
        }
      ]
    },
    {
      "cell_type": "markdown",
      "id": "727995e4",
      "metadata": {
        "id": "727995e4"
      },
      "source": [
        "## Step 1: Load the dataset"
      ]
    },
    {
      "cell_type": "markdown",
      "id": "e20717dd",
      "metadata": {
        "id": "e20717dd"
      },
      "source": [
        "We begin by loading a CSV file that contains protein sequences.\n",
        "\n",
        "All sequences are of the same length — 6 amino acids."
      ]
    },
    {
      "cell_type": "code",
      "execution_count": null,
      "id": "91b01e33",
      "metadata": {
        "colab": {
          "base_uri": "https://localhost:8080/",
          "height": 423
        },
        "id": "91b01e33",
        "outputId": "e47bf533-a449-495f-f126-40bb9bda9cdd"
      },
      "outputs": [
        {
          "output_type": "execute_result",
          "data": {
            "text/plain": [
              "      1    2    3    4    5    6    7    8    9\n",
              "0   ILE  ILE  ILE  SER  ASP  TYR  SER  LYS  GLU\n",
              "1   ILE  ILE  LEU  SER  ASP  TYR  SER  LYS  GLU\n",
              "2   ILE  ILE  VAL  SER  ASP  TYR  SER  LYS  GLU\n",
              "3   ILE  LEU  ILE  SER  ASP  TYR  SER  LYS  GLU\n",
              "4   ILE  LEU  LEU  LYS  ASP  PHE  GLU  GLU  ARG\n",
              "..  ...  ...  ...  ...  ...  ...  ...  ...  ...\n",
              "56  VAL  ILE  VAL  SER  ASP  TYR  SER  LYS  GLU\n",
              "57  VAL  LEU  ILE  SER  ASP  TYR  SER  LYS  GLU\n",
              "58  VAL  LEU  VAL  SER  ASP  TYR  SER  LYS  GLU\n",
              "59  VAL  VAL  LEU  SER  ASP  TYR  SER  LYS  GLU\n",
              "60  VAL  VAL  VAL  SER  ASP  TYR  SER  LYS  GLU\n",
              "\n",
              "[61 rows x 9 columns]"
            ],
            "text/html": [
              "\n",
              "  <div id=\"df-a43ec5a9-a590-476c-9cbf-785e3dc9ea32\" class=\"colab-df-container\">\n",
              "    <div>\n",
              "<style scoped>\n",
              "    .dataframe tbody tr th:only-of-type {\n",
              "        vertical-align: middle;\n",
              "    }\n",
              "\n",
              "    .dataframe tbody tr th {\n",
              "        vertical-align: top;\n",
              "    }\n",
              "\n",
              "    .dataframe thead th {\n",
              "        text-align: right;\n",
              "    }\n",
              "</style>\n",
              "<table border=\"1\" class=\"dataframe\">\n",
              "  <thead>\n",
              "    <tr style=\"text-align: right;\">\n",
              "      <th></th>\n",
              "      <th>1</th>\n",
              "      <th>2</th>\n",
              "      <th>3</th>\n",
              "      <th>4</th>\n",
              "      <th>5</th>\n",
              "      <th>6</th>\n",
              "      <th>7</th>\n",
              "      <th>8</th>\n",
              "      <th>9</th>\n",
              "    </tr>\n",
              "  </thead>\n",
              "  <tbody>\n",
              "    <tr>\n",
              "      <th>0</th>\n",
              "      <td>ILE</td>\n",
              "      <td>ILE</td>\n",
              "      <td>ILE</td>\n",
              "      <td>SER</td>\n",
              "      <td>ASP</td>\n",
              "      <td>TYR</td>\n",
              "      <td>SER</td>\n",
              "      <td>LYS</td>\n",
              "      <td>GLU</td>\n",
              "    </tr>\n",
              "    <tr>\n",
              "      <th>1</th>\n",
              "      <td>ILE</td>\n",
              "      <td>ILE</td>\n",
              "      <td>LEU</td>\n",
              "      <td>SER</td>\n",
              "      <td>ASP</td>\n",
              "      <td>TYR</td>\n",
              "      <td>SER</td>\n",
              "      <td>LYS</td>\n",
              "      <td>GLU</td>\n",
              "    </tr>\n",
              "    <tr>\n",
              "      <th>2</th>\n",
              "      <td>ILE</td>\n",
              "      <td>ILE</td>\n",
              "      <td>VAL</td>\n",
              "      <td>SER</td>\n",
              "      <td>ASP</td>\n",
              "      <td>TYR</td>\n",
              "      <td>SER</td>\n",
              "      <td>LYS</td>\n",
              "      <td>GLU</td>\n",
              "    </tr>\n",
              "    <tr>\n",
              "      <th>3</th>\n",
              "      <td>ILE</td>\n",
              "      <td>LEU</td>\n",
              "      <td>ILE</td>\n",
              "      <td>SER</td>\n",
              "      <td>ASP</td>\n",
              "      <td>TYR</td>\n",
              "      <td>SER</td>\n",
              "      <td>LYS</td>\n",
              "      <td>GLU</td>\n",
              "    </tr>\n",
              "    <tr>\n",
              "      <th>4</th>\n",
              "      <td>ILE</td>\n",
              "      <td>LEU</td>\n",
              "      <td>LEU</td>\n",
              "      <td>LYS</td>\n",
              "      <td>ASP</td>\n",
              "      <td>PHE</td>\n",
              "      <td>GLU</td>\n",
              "      <td>GLU</td>\n",
              "      <td>ARG</td>\n",
              "    </tr>\n",
              "    <tr>\n",
              "      <th>...</th>\n",
              "      <td>...</td>\n",
              "      <td>...</td>\n",
              "      <td>...</td>\n",
              "      <td>...</td>\n",
              "      <td>...</td>\n",
              "      <td>...</td>\n",
              "      <td>...</td>\n",
              "      <td>...</td>\n",
              "      <td>...</td>\n",
              "    </tr>\n",
              "    <tr>\n",
              "      <th>56</th>\n",
              "      <td>VAL</td>\n",
              "      <td>ILE</td>\n",
              "      <td>VAL</td>\n",
              "      <td>SER</td>\n",
              "      <td>ASP</td>\n",
              "      <td>TYR</td>\n",
              "      <td>SER</td>\n",
              "      <td>LYS</td>\n",
              "      <td>GLU</td>\n",
              "    </tr>\n",
              "    <tr>\n",
              "      <th>57</th>\n",
              "      <td>VAL</td>\n",
              "      <td>LEU</td>\n",
              "      <td>ILE</td>\n",
              "      <td>SER</td>\n",
              "      <td>ASP</td>\n",
              "      <td>TYR</td>\n",
              "      <td>SER</td>\n",
              "      <td>LYS</td>\n",
              "      <td>GLU</td>\n",
              "    </tr>\n",
              "    <tr>\n",
              "      <th>58</th>\n",
              "      <td>VAL</td>\n",
              "      <td>LEU</td>\n",
              "      <td>VAL</td>\n",
              "      <td>SER</td>\n",
              "      <td>ASP</td>\n",
              "      <td>TYR</td>\n",
              "      <td>SER</td>\n",
              "      <td>LYS</td>\n",
              "      <td>GLU</td>\n",
              "    </tr>\n",
              "    <tr>\n",
              "      <th>59</th>\n",
              "      <td>VAL</td>\n",
              "      <td>VAL</td>\n",
              "      <td>LEU</td>\n",
              "      <td>SER</td>\n",
              "      <td>ASP</td>\n",
              "      <td>TYR</td>\n",
              "      <td>SER</td>\n",
              "      <td>LYS</td>\n",
              "      <td>GLU</td>\n",
              "    </tr>\n",
              "    <tr>\n",
              "      <th>60</th>\n",
              "      <td>VAL</td>\n",
              "      <td>VAL</td>\n",
              "      <td>VAL</td>\n",
              "      <td>SER</td>\n",
              "      <td>ASP</td>\n",
              "      <td>TYR</td>\n",
              "      <td>SER</td>\n",
              "      <td>LYS</td>\n",
              "      <td>GLU</td>\n",
              "    </tr>\n",
              "  </tbody>\n",
              "</table>\n",
              "<p>61 rows × 9 columns</p>\n",
              "</div>\n",
              "    <div class=\"colab-df-buttons\">\n",
              "\n",
              "  <div class=\"colab-df-container\">\n",
              "    <button class=\"colab-df-convert\" onclick=\"convertToInteractive('df-a43ec5a9-a590-476c-9cbf-785e3dc9ea32')\"\n",
              "            title=\"Convert this dataframe to an interactive table.\"\n",
              "            style=\"display:none;\">\n",
              "\n",
              "  <svg xmlns=\"http://www.w3.org/2000/svg\" height=\"24px\" viewBox=\"0 -960 960 960\">\n",
              "    <path d=\"M120-120v-720h720v720H120Zm60-500h600v-160H180v160Zm220 220h160v-160H400v160Zm0 220h160v-160H400v160ZM180-400h160v-160H180v160Zm440 0h160v-160H620v160ZM180-180h160v-160H180v160Zm440 0h160v-160H620v160Z\"/>\n",
              "  </svg>\n",
              "    </button>\n",
              "\n",
              "  <style>\n",
              "    .colab-df-container {\n",
              "      display:flex;\n",
              "      gap: 12px;\n",
              "    }\n",
              "\n",
              "    .colab-df-convert {\n",
              "      background-color: #E8F0FE;\n",
              "      border: none;\n",
              "      border-radius: 50%;\n",
              "      cursor: pointer;\n",
              "      display: none;\n",
              "      fill: #1967D2;\n",
              "      height: 32px;\n",
              "      padding: 0 0 0 0;\n",
              "      width: 32px;\n",
              "    }\n",
              "\n",
              "    .colab-df-convert:hover {\n",
              "      background-color: #E2EBFA;\n",
              "      box-shadow: 0px 1px 2px rgba(60, 64, 67, 0.3), 0px 1px 3px 1px rgba(60, 64, 67, 0.15);\n",
              "      fill: #174EA6;\n",
              "    }\n",
              "\n",
              "    .colab-df-buttons div {\n",
              "      margin-bottom: 4px;\n",
              "    }\n",
              "\n",
              "    [theme=dark] .colab-df-convert {\n",
              "      background-color: #3B4455;\n",
              "      fill: #D2E3FC;\n",
              "    }\n",
              "\n",
              "    [theme=dark] .colab-df-convert:hover {\n",
              "      background-color: #434B5C;\n",
              "      box-shadow: 0px 1px 3px 1px rgba(0, 0, 0, 0.15);\n",
              "      filter: drop-shadow(0px 1px 2px rgba(0, 0, 0, 0.3));\n",
              "      fill: #FFFFFF;\n",
              "    }\n",
              "  </style>\n",
              "\n",
              "    <script>\n",
              "      const buttonEl =\n",
              "        document.querySelector('#df-a43ec5a9-a590-476c-9cbf-785e3dc9ea32 button.colab-df-convert');\n",
              "      buttonEl.style.display =\n",
              "        google.colab.kernel.accessAllowed ? 'block' : 'none';\n",
              "\n",
              "      async function convertToInteractive(key) {\n",
              "        const element = document.querySelector('#df-a43ec5a9-a590-476c-9cbf-785e3dc9ea32');\n",
              "        const dataTable =\n",
              "          await google.colab.kernel.invokeFunction('convertToInteractive',\n",
              "                                                    [key], {});\n",
              "        if (!dataTable) return;\n",
              "\n",
              "        const docLinkHtml = 'Like what you see? Visit the ' +\n",
              "          '<a target=\"_blank\" href=https://colab.research.google.com/notebooks/data_table.ipynb>data table notebook</a>'\n",
              "          + ' to learn more about interactive tables.';\n",
              "        element.innerHTML = '';\n",
              "        dataTable['output_type'] = 'display_data';\n",
              "        await google.colab.output.renderOutput(dataTable, element);\n",
              "        const docLink = document.createElement('div');\n",
              "        docLink.innerHTML = docLinkHtml;\n",
              "        element.appendChild(docLink);\n",
              "      }\n",
              "    </script>\n",
              "  </div>\n",
              "\n",
              "\n",
              "    <div id=\"df-9c79fa35-11bf-4135-ab84-8858c5e369f2\">\n",
              "      <button class=\"colab-df-quickchart\" onclick=\"quickchart('df-9c79fa35-11bf-4135-ab84-8858c5e369f2')\"\n",
              "                title=\"Suggest charts\"\n",
              "                style=\"display:none;\">\n",
              "\n",
              "<svg xmlns=\"http://www.w3.org/2000/svg\" height=\"24px\"viewBox=\"0 0 24 24\"\n",
              "     width=\"24px\">\n",
              "    <g>\n",
              "        <path d=\"M19 3H5c-1.1 0-2 .9-2 2v14c0 1.1.9 2 2 2h14c1.1 0 2-.9 2-2V5c0-1.1-.9-2-2-2zM9 17H7v-7h2v7zm4 0h-2V7h2v10zm4 0h-2v-4h2v4z\"/>\n",
              "    </g>\n",
              "</svg>\n",
              "      </button>\n",
              "\n",
              "<style>\n",
              "  .colab-df-quickchart {\n",
              "      --bg-color: #E8F0FE;\n",
              "      --fill-color: #1967D2;\n",
              "      --hover-bg-color: #E2EBFA;\n",
              "      --hover-fill-color: #174EA6;\n",
              "      --disabled-fill-color: #AAA;\n",
              "      --disabled-bg-color: #DDD;\n",
              "  }\n",
              "\n",
              "  [theme=dark] .colab-df-quickchart {\n",
              "      --bg-color: #3B4455;\n",
              "      --fill-color: #D2E3FC;\n",
              "      --hover-bg-color: #434B5C;\n",
              "      --hover-fill-color: #FFFFFF;\n",
              "      --disabled-bg-color: #3B4455;\n",
              "      --disabled-fill-color: #666;\n",
              "  }\n",
              "\n",
              "  .colab-df-quickchart {\n",
              "    background-color: var(--bg-color);\n",
              "    border: none;\n",
              "    border-radius: 50%;\n",
              "    cursor: pointer;\n",
              "    display: none;\n",
              "    fill: var(--fill-color);\n",
              "    height: 32px;\n",
              "    padding: 0;\n",
              "    width: 32px;\n",
              "  }\n",
              "\n",
              "  .colab-df-quickchart:hover {\n",
              "    background-color: var(--hover-bg-color);\n",
              "    box-shadow: 0 1px 2px rgba(60, 64, 67, 0.3), 0 1px 3px 1px rgba(60, 64, 67, 0.15);\n",
              "    fill: var(--button-hover-fill-color);\n",
              "  }\n",
              "\n",
              "  .colab-df-quickchart-complete:disabled,\n",
              "  .colab-df-quickchart-complete:disabled:hover {\n",
              "    background-color: var(--disabled-bg-color);\n",
              "    fill: var(--disabled-fill-color);\n",
              "    box-shadow: none;\n",
              "  }\n",
              "\n",
              "  .colab-df-spinner {\n",
              "    border: 2px solid var(--fill-color);\n",
              "    border-color: transparent;\n",
              "    border-bottom-color: var(--fill-color);\n",
              "    animation:\n",
              "      spin 1s steps(1) infinite;\n",
              "  }\n",
              "\n",
              "  @keyframes spin {\n",
              "    0% {\n",
              "      border-color: transparent;\n",
              "      border-bottom-color: var(--fill-color);\n",
              "      border-left-color: var(--fill-color);\n",
              "    }\n",
              "    20% {\n",
              "      border-color: transparent;\n",
              "      border-left-color: var(--fill-color);\n",
              "      border-top-color: var(--fill-color);\n",
              "    }\n",
              "    30% {\n",
              "      border-color: transparent;\n",
              "      border-left-color: var(--fill-color);\n",
              "      border-top-color: var(--fill-color);\n",
              "      border-right-color: var(--fill-color);\n",
              "    }\n",
              "    40% {\n",
              "      border-color: transparent;\n",
              "      border-right-color: var(--fill-color);\n",
              "      border-top-color: var(--fill-color);\n",
              "    }\n",
              "    60% {\n",
              "      border-color: transparent;\n",
              "      border-right-color: var(--fill-color);\n",
              "    }\n",
              "    80% {\n",
              "      border-color: transparent;\n",
              "      border-right-color: var(--fill-color);\n",
              "      border-bottom-color: var(--fill-color);\n",
              "    }\n",
              "    90% {\n",
              "      border-color: transparent;\n",
              "      border-bottom-color: var(--fill-color);\n",
              "    }\n",
              "  }\n",
              "</style>\n",
              "\n",
              "      <script>\n",
              "        async function quickchart(key) {\n",
              "          const quickchartButtonEl =\n",
              "            document.querySelector('#' + key + ' button');\n",
              "          quickchartButtonEl.disabled = true;  // To prevent multiple clicks.\n",
              "          quickchartButtonEl.classList.add('colab-df-spinner');\n",
              "          try {\n",
              "            const charts = await google.colab.kernel.invokeFunction(\n",
              "                'suggestCharts', [key], {});\n",
              "          } catch (error) {\n",
              "            console.error('Error during call to suggestCharts:', error);\n",
              "          }\n",
              "          quickchartButtonEl.classList.remove('colab-df-spinner');\n",
              "          quickchartButtonEl.classList.add('colab-df-quickchart-complete');\n",
              "        }\n",
              "        (() => {\n",
              "          let quickchartButtonEl =\n",
              "            document.querySelector('#df-9c79fa35-11bf-4135-ab84-8858c5e369f2 button');\n",
              "          quickchartButtonEl.style.display =\n",
              "            google.colab.kernel.accessAllowed ? 'block' : 'none';\n",
              "        })();\n",
              "      </script>\n",
              "    </div>\n",
              "    </div>\n",
              "  </div>\n"
            ],
            "application/vnd.google.colaboratory.intrinsic+json": {
              "type": "dataframe",
              "variable_name": "df",
              "summary": "{\n  \"name\": \"df\",\n  \"rows\": 61,\n  \"fields\": [\n    {\n      \"column\": \"1\",\n      \"properties\": {\n        \"dtype\": \"category\",\n        \"num_unique_values\": 3,\n        \"samples\": [\n          \"ILE\",\n          \"LEU\",\n          \"VAL\"\n        ],\n        \"semantic_type\": \"\",\n        \"description\": \"\"\n      }\n    },\n    {\n      \"column\": \"2\",\n      \"properties\": {\n        \"dtype\": \"category\",\n        \"num_unique_values\": 3,\n        \"samples\": [\n          \"ILE\",\n          \"LEU\",\n          \"VAL\"\n        ],\n        \"semantic_type\": \"\",\n        \"description\": \"\"\n      }\n    },\n    {\n      \"column\": \"3\",\n      \"properties\": {\n        \"dtype\": \"category\",\n        \"num_unique_values\": 3,\n        \"samples\": [\n          \"ILE\",\n          \"LEU\",\n          \"VAL\"\n        ],\n        \"semantic_type\": \"\",\n        \"description\": \"\"\n      }\n    },\n    {\n      \"column\": \"4\",\n      \"properties\": {\n        \"dtype\": \"category\",\n        \"num_unique_values\": 2,\n        \"samples\": [\n          \"LYS\",\n          \"SER\"\n        ],\n        \"semantic_type\": \"\",\n        \"description\": \"\"\n      }\n    },\n    {\n      \"column\": \"5\",\n      \"properties\": {\n        \"dtype\": \"category\",\n        \"num_unique_values\": 1,\n        \"samples\": [\n          \"ASP\"\n        ],\n        \"semantic_type\": \"\",\n        \"description\": \"\"\n      }\n    },\n    {\n      \"column\": \"6\",\n      \"properties\": {\n        \"dtype\": \"category\",\n        \"num_unique_values\": 8,\n        \"samples\": [\n          \"PHE\"\n        ],\n        \"semantic_type\": \"\",\n        \"description\": \"\"\n      }\n    },\n    {\n      \"column\": \"7\",\n      \"properties\": {\n        \"dtype\": \"category\",\n        \"num_unique_values\": 6,\n        \"samples\": [\n          \"SER\"\n        ],\n        \"semantic_type\": \"\",\n        \"description\": \"\"\n      }\n    },\n    {\n      \"column\": \"8\",\n      \"properties\": {\n        \"dtype\": \"category\",\n        \"num_unique_values\": 6,\n        \"samples\": [\n          \"LYS\"\n        ],\n        \"semantic_type\": \"\",\n        \"description\": \"\"\n      }\n    },\n    {\n      \"column\": \"9\",\n      \"properties\": {\n        \"dtype\": \"category\",\n        \"num_unique_values\": 4,\n        \"samples\": [\n          \"ARG\"\n        ],\n        \"semantic_type\": \"\",\n        \"description\": \"\"\n      }\n    }\n  ]\n}"
            }
          },
          "metadata": {},
          "execution_count": 19
        }
      ],
      "source": [
        "import numpy as np\n",
        "import pandas as pd\n",
        "\n",
        "df = pd.read_csv('pept_test.csv', delimiter=' ')\n",
        "df"
      ]
    },
    {
      "cell_type": "code",
      "execution_count": null,
      "id": "c85f7e3a",
      "metadata": {
        "colab": {
          "base_uri": "https://localhost:8080/",
          "height": 461
        },
        "id": "c85f7e3a",
        "outputId": "47386178-6c10-4878-940f-e8b5dae57907"
      },
      "outputs": [
        {
          "output_type": "stream",
          "name": "stdout",
          "text": [
            "['IIISDYSKE', 'IILSDYSKE', 'IIVSDYSKE', 'ILISDYSKE', 'ILLKDFEER', 'ILLKDFRKD', 'ILLKDFRKR', 'ILLKDHSDK', 'ILLKDHSED', 'ILLKDHTDR', 'ILLKDHTRK', 'ILLKDIDTD', 'ILLKDIEKE', 'ILLKDISER', 'ILLKDITEK', 'ILLKDLKED', 'ILLKDLKRK', 'ILLKDLKTD', 'ILLKDLSDK', 'ILLKDLSKK', 'ILLKDLTED', 'ILLKDLTEK', 'ILLKDLTKD', 'ILLKDLTKE', 'ILLKDLTKR', 'ILLKDLTRR', 'ILLKDNDDK', 'ILLKDNETD', 'ILLKDNKTR', 'ILLKDQDKR', 'ILLKDQESK', 'ILLKDQETE', 'ILLKDVERR', 'ILLKDYDEE', 'ILLKDYDSD', 'ILLKDYDTE', 'ILLKDYKEK', 'ILLKDYRSK', 'ILLKDYRTR', 'ILLKDYSEK', 'ILLKDYSKD', 'ILLKDYSKE', 'ILLKDYSRD', 'ILLKDYSRE', 'ILLKDYTRK', 'ILLSDYSKE', 'IVISDYSKE', 'LIISDYSKE', 'LILSDYSKE', 'LIVSDYSKE', 'LLISDYSKE', 'LLLSDYSKE', 'LLVSDYSKE', 'LVVSDYSKE', 'VIISDYSKE', 'VILSDYSKE', 'VIVSDYSKE', 'VLISDYSKE', 'VLVSDYSKE', 'VVLSDYSKE', 'VVVSDYSKE']\n"
          ]
        },
        {
          "output_type": "execute_result",
          "data": {
            "text/plain": [
              "      1    2    3    4    5    6    7    8    9   Sequence\n",
              "0   ILE  ILE  ILE  SER  ASP  TYR  SER  LYS  GLU  IIISDYSKE\n",
              "1   ILE  ILE  LEU  SER  ASP  TYR  SER  LYS  GLU  IILSDYSKE\n",
              "2   ILE  ILE  VAL  SER  ASP  TYR  SER  LYS  GLU  IIVSDYSKE\n",
              "3   ILE  LEU  ILE  SER  ASP  TYR  SER  LYS  GLU  ILISDYSKE\n",
              "4   ILE  LEU  LEU  LYS  ASP  PHE  GLU  GLU  ARG  ILLKDFEER\n",
              "..  ...  ...  ...  ...  ...  ...  ...  ...  ...        ...\n",
              "56  VAL  ILE  VAL  SER  ASP  TYR  SER  LYS  GLU  VIVSDYSKE\n",
              "57  VAL  LEU  ILE  SER  ASP  TYR  SER  LYS  GLU  VLISDYSKE\n",
              "58  VAL  LEU  VAL  SER  ASP  TYR  SER  LYS  GLU  VLVSDYSKE\n",
              "59  VAL  VAL  LEU  SER  ASP  TYR  SER  LYS  GLU  VVLSDYSKE\n",
              "60  VAL  VAL  VAL  SER  ASP  TYR  SER  LYS  GLU  VVVSDYSKE\n",
              "\n",
              "[61 rows x 10 columns]"
            ],
            "text/html": [
              "\n",
              "  <div id=\"df-d3b03418-5bdf-4c1a-96a5-5b53b07dd109\" class=\"colab-df-container\">\n",
              "    <div>\n",
              "<style scoped>\n",
              "    .dataframe tbody tr th:only-of-type {\n",
              "        vertical-align: middle;\n",
              "    }\n",
              "\n",
              "    .dataframe tbody tr th {\n",
              "        vertical-align: top;\n",
              "    }\n",
              "\n",
              "    .dataframe thead th {\n",
              "        text-align: right;\n",
              "    }\n",
              "</style>\n",
              "<table border=\"1\" class=\"dataframe\">\n",
              "  <thead>\n",
              "    <tr style=\"text-align: right;\">\n",
              "      <th></th>\n",
              "      <th>1</th>\n",
              "      <th>2</th>\n",
              "      <th>3</th>\n",
              "      <th>4</th>\n",
              "      <th>5</th>\n",
              "      <th>6</th>\n",
              "      <th>7</th>\n",
              "      <th>8</th>\n",
              "      <th>9</th>\n",
              "      <th>Sequence</th>\n",
              "    </tr>\n",
              "  </thead>\n",
              "  <tbody>\n",
              "    <tr>\n",
              "      <th>0</th>\n",
              "      <td>ILE</td>\n",
              "      <td>ILE</td>\n",
              "      <td>ILE</td>\n",
              "      <td>SER</td>\n",
              "      <td>ASP</td>\n",
              "      <td>TYR</td>\n",
              "      <td>SER</td>\n",
              "      <td>LYS</td>\n",
              "      <td>GLU</td>\n",
              "      <td>IIISDYSKE</td>\n",
              "    </tr>\n",
              "    <tr>\n",
              "      <th>1</th>\n",
              "      <td>ILE</td>\n",
              "      <td>ILE</td>\n",
              "      <td>LEU</td>\n",
              "      <td>SER</td>\n",
              "      <td>ASP</td>\n",
              "      <td>TYR</td>\n",
              "      <td>SER</td>\n",
              "      <td>LYS</td>\n",
              "      <td>GLU</td>\n",
              "      <td>IILSDYSKE</td>\n",
              "    </tr>\n",
              "    <tr>\n",
              "      <th>2</th>\n",
              "      <td>ILE</td>\n",
              "      <td>ILE</td>\n",
              "      <td>VAL</td>\n",
              "      <td>SER</td>\n",
              "      <td>ASP</td>\n",
              "      <td>TYR</td>\n",
              "      <td>SER</td>\n",
              "      <td>LYS</td>\n",
              "      <td>GLU</td>\n",
              "      <td>IIVSDYSKE</td>\n",
              "    </tr>\n",
              "    <tr>\n",
              "      <th>3</th>\n",
              "      <td>ILE</td>\n",
              "      <td>LEU</td>\n",
              "      <td>ILE</td>\n",
              "      <td>SER</td>\n",
              "      <td>ASP</td>\n",
              "      <td>TYR</td>\n",
              "      <td>SER</td>\n",
              "      <td>LYS</td>\n",
              "      <td>GLU</td>\n",
              "      <td>ILISDYSKE</td>\n",
              "    </tr>\n",
              "    <tr>\n",
              "      <th>4</th>\n",
              "      <td>ILE</td>\n",
              "      <td>LEU</td>\n",
              "      <td>LEU</td>\n",
              "      <td>LYS</td>\n",
              "      <td>ASP</td>\n",
              "      <td>PHE</td>\n",
              "      <td>GLU</td>\n",
              "      <td>GLU</td>\n",
              "      <td>ARG</td>\n",
              "      <td>ILLKDFEER</td>\n",
              "    </tr>\n",
              "    <tr>\n",
              "      <th>...</th>\n",
              "      <td>...</td>\n",
              "      <td>...</td>\n",
              "      <td>...</td>\n",
              "      <td>...</td>\n",
              "      <td>...</td>\n",
              "      <td>...</td>\n",
              "      <td>...</td>\n",
              "      <td>...</td>\n",
              "      <td>...</td>\n",
              "      <td>...</td>\n",
              "    </tr>\n",
              "    <tr>\n",
              "      <th>56</th>\n",
              "      <td>VAL</td>\n",
              "      <td>ILE</td>\n",
              "      <td>VAL</td>\n",
              "      <td>SER</td>\n",
              "      <td>ASP</td>\n",
              "      <td>TYR</td>\n",
              "      <td>SER</td>\n",
              "      <td>LYS</td>\n",
              "      <td>GLU</td>\n",
              "      <td>VIVSDYSKE</td>\n",
              "    </tr>\n",
              "    <tr>\n",
              "      <th>57</th>\n",
              "      <td>VAL</td>\n",
              "      <td>LEU</td>\n",
              "      <td>ILE</td>\n",
              "      <td>SER</td>\n",
              "      <td>ASP</td>\n",
              "      <td>TYR</td>\n",
              "      <td>SER</td>\n",
              "      <td>LYS</td>\n",
              "      <td>GLU</td>\n",
              "      <td>VLISDYSKE</td>\n",
              "    </tr>\n",
              "    <tr>\n",
              "      <th>58</th>\n",
              "      <td>VAL</td>\n",
              "      <td>LEU</td>\n",
              "      <td>VAL</td>\n",
              "      <td>SER</td>\n",
              "      <td>ASP</td>\n",
              "      <td>TYR</td>\n",
              "      <td>SER</td>\n",
              "      <td>LYS</td>\n",
              "      <td>GLU</td>\n",
              "      <td>VLVSDYSKE</td>\n",
              "    </tr>\n",
              "    <tr>\n",
              "      <th>59</th>\n",
              "      <td>VAL</td>\n",
              "      <td>VAL</td>\n",
              "      <td>LEU</td>\n",
              "      <td>SER</td>\n",
              "      <td>ASP</td>\n",
              "      <td>TYR</td>\n",
              "      <td>SER</td>\n",
              "      <td>LYS</td>\n",
              "      <td>GLU</td>\n",
              "      <td>VVLSDYSKE</td>\n",
              "    </tr>\n",
              "    <tr>\n",
              "      <th>60</th>\n",
              "      <td>VAL</td>\n",
              "      <td>VAL</td>\n",
              "      <td>VAL</td>\n",
              "      <td>SER</td>\n",
              "      <td>ASP</td>\n",
              "      <td>TYR</td>\n",
              "      <td>SER</td>\n",
              "      <td>LYS</td>\n",
              "      <td>GLU</td>\n",
              "      <td>VVVSDYSKE</td>\n",
              "    </tr>\n",
              "  </tbody>\n",
              "</table>\n",
              "<p>61 rows × 10 columns</p>\n",
              "</div>\n",
              "    <div class=\"colab-df-buttons\">\n",
              "\n",
              "  <div class=\"colab-df-container\">\n",
              "    <button class=\"colab-df-convert\" onclick=\"convertToInteractive('df-d3b03418-5bdf-4c1a-96a5-5b53b07dd109')\"\n",
              "            title=\"Convert this dataframe to an interactive table.\"\n",
              "            style=\"display:none;\">\n",
              "\n",
              "  <svg xmlns=\"http://www.w3.org/2000/svg\" height=\"24px\" viewBox=\"0 -960 960 960\">\n",
              "    <path d=\"M120-120v-720h720v720H120Zm60-500h600v-160H180v160Zm220 220h160v-160H400v160Zm0 220h160v-160H400v160ZM180-400h160v-160H180v160Zm440 0h160v-160H620v160ZM180-180h160v-160H180v160Zm440 0h160v-160H620v160Z\"/>\n",
              "  </svg>\n",
              "    </button>\n",
              "\n",
              "  <style>\n",
              "    .colab-df-container {\n",
              "      display:flex;\n",
              "      gap: 12px;\n",
              "    }\n",
              "\n",
              "    .colab-df-convert {\n",
              "      background-color: #E8F0FE;\n",
              "      border: none;\n",
              "      border-radius: 50%;\n",
              "      cursor: pointer;\n",
              "      display: none;\n",
              "      fill: #1967D2;\n",
              "      height: 32px;\n",
              "      padding: 0 0 0 0;\n",
              "      width: 32px;\n",
              "    }\n",
              "\n",
              "    .colab-df-convert:hover {\n",
              "      background-color: #E2EBFA;\n",
              "      box-shadow: 0px 1px 2px rgba(60, 64, 67, 0.3), 0px 1px 3px 1px rgba(60, 64, 67, 0.15);\n",
              "      fill: #174EA6;\n",
              "    }\n",
              "\n",
              "    .colab-df-buttons div {\n",
              "      margin-bottom: 4px;\n",
              "    }\n",
              "\n",
              "    [theme=dark] .colab-df-convert {\n",
              "      background-color: #3B4455;\n",
              "      fill: #D2E3FC;\n",
              "    }\n",
              "\n",
              "    [theme=dark] .colab-df-convert:hover {\n",
              "      background-color: #434B5C;\n",
              "      box-shadow: 0px 1px 3px 1px rgba(0, 0, 0, 0.15);\n",
              "      filter: drop-shadow(0px 1px 2px rgba(0, 0, 0, 0.3));\n",
              "      fill: #FFFFFF;\n",
              "    }\n",
              "  </style>\n",
              "\n",
              "    <script>\n",
              "      const buttonEl =\n",
              "        document.querySelector('#df-d3b03418-5bdf-4c1a-96a5-5b53b07dd109 button.colab-df-convert');\n",
              "      buttonEl.style.display =\n",
              "        google.colab.kernel.accessAllowed ? 'block' : 'none';\n",
              "\n",
              "      async function convertToInteractive(key) {\n",
              "        const element = document.querySelector('#df-d3b03418-5bdf-4c1a-96a5-5b53b07dd109');\n",
              "        const dataTable =\n",
              "          await google.colab.kernel.invokeFunction('convertToInteractive',\n",
              "                                                    [key], {});\n",
              "        if (!dataTable) return;\n",
              "\n",
              "        const docLinkHtml = 'Like what you see? Visit the ' +\n",
              "          '<a target=\"_blank\" href=https://colab.research.google.com/notebooks/data_table.ipynb>data table notebook</a>'\n",
              "          + ' to learn more about interactive tables.';\n",
              "        element.innerHTML = '';\n",
              "        dataTable['output_type'] = 'display_data';\n",
              "        await google.colab.output.renderOutput(dataTable, element);\n",
              "        const docLink = document.createElement('div');\n",
              "        docLink.innerHTML = docLinkHtml;\n",
              "        element.appendChild(docLink);\n",
              "      }\n",
              "    </script>\n",
              "  </div>\n",
              "\n",
              "\n",
              "    <div id=\"df-094455b4-6e3e-418f-933f-67ef69773aac\">\n",
              "      <button class=\"colab-df-quickchart\" onclick=\"quickchart('df-094455b4-6e3e-418f-933f-67ef69773aac')\"\n",
              "                title=\"Suggest charts\"\n",
              "                style=\"display:none;\">\n",
              "\n",
              "<svg xmlns=\"http://www.w3.org/2000/svg\" height=\"24px\"viewBox=\"0 0 24 24\"\n",
              "     width=\"24px\">\n",
              "    <g>\n",
              "        <path d=\"M19 3H5c-1.1 0-2 .9-2 2v14c0 1.1.9 2 2 2h14c1.1 0 2-.9 2-2V5c0-1.1-.9-2-2-2zM9 17H7v-7h2v7zm4 0h-2V7h2v10zm4 0h-2v-4h2v4z\"/>\n",
              "    </g>\n",
              "</svg>\n",
              "      </button>\n",
              "\n",
              "<style>\n",
              "  .colab-df-quickchart {\n",
              "      --bg-color: #E8F0FE;\n",
              "      --fill-color: #1967D2;\n",
              "      --hover-bg-color: #E2EBFA;\n",
              "      --hover-fill-color: #174EA6;\n",
              "      --disabled-fill-color: #AAA;\n",
              "      --disabled-bg-color: #DDD;\n",
              "  }\n",
              "\n",
              "  [theme=dark] .colab-df-quickchart {\n",
              "      --bg-color: #3B4455;\n",
              "      --fill-color: #D2E3FC;\n",
              "      --hover-bg-color: #434B5C;\n",
              "      --hover-fill-color: #FFFFFF;\n",
              "      --disabled-bg-color: #3B4455;\n",
              "      --disabled-fill-color: #666;\n",
              "  }\n",
              "\n",
              "  .colab-df-quickchart {\n",
              "    background-color: var(--bg-color);\n",
              "    border: none;\n",
              "    border-radius: 50%;\n",
              "    cursor: pointer;\n",
              "    display: none;\n",
              "    fill: var(--fill-color);\n",
              "    height: 32px;\n",
              "    padding: 0;\n",
              "    width: 32px;\n",
              "  }\n",
              "\n",
              "  .colab-df-quickchart:hover {\n",
              "    background-color: var(--hover-bg-color);\n",
              "    box-shadow: 0 1px 2px rgba(60, 64, 67, 0.3), 0 1px 3px 1px rgba(60, 64, 67, 0.15);\n",
              "    fill: var(--button-hover-fill-color);\n",
              "  }\n",
              "\n",
              "  .colab-df-quickchart-complete:disabled,\n",
              "  .colab-df-quickchart-complete:disabled:hover {\n",
              "    background-color: var(--disabled-bg-color);\n",
              "    fill: var(--disabled-fill-color);\n",
              "    box-shadow: none;\n",
              "  }\n",
              "\n",
              "  .colab-df-spinner {\n",
              "    border: 2px solid var(--fill-color);\n",
              "    border-color: transparent;\n",
              "    border-bottom-color: var(--fill-color);\n",
              "    animation:\n",
              "      spin 1s steps(1) infinite;\n",
              "  }\n",
              "\n",
              "  @keyframes spin {\n",
              "    0% {\n",
              "      border-color: transparent;\n",
              "      border-bottom-color: var(--fill-color);\n",
              "      border-left-color: var(--fill-color);\n",
              "    }\n",
              "    20% {\n",
              "      border-color: transparent;\n",
              "      border-left-color: var(--fill-color);\n",
              "      border-top-color: var(--fill-color);\n",
              "    }\n",
              "    30% {\n",
              "      border-color: transparent;\n",
              "      border-left-color: var(--fill-color);\n",
              "      border-top-color: var(--fill-color);\n",
              "      border-right-color: var(--fill-color);\n",
              "    }\n",
              "    40% {\n",
              "      border-color: transparent;\n",
              "      border-right-color: var(--fill-color);\n",
              "      border-top-color: var(--fill-color);\n",
              "    }\n",
              "    60% {\n",
              "      border-color: transparent;\n",
              "      border-right-color: var(--fill-color);\n",
              "    }\n",
              "    80% {\n",
              "      border-color: transparent;\n",
              "      border-right-color: var(--fill-color);\n",
              "      border-bottom-color: var(--fill-color);\n",
              "    }\n",
              "    90% {\n",
              "      border-color: transparent;\n",
              "      border-bottom-color: var(--fill-color);\n",
              "    }\n",
              "  }\n",
              "</style>\n",
              "\n",
              "      <script>\n",
              "        async function quickchart(key) {\n",
              "          const quickchartButtonEl =\n",
              "            document.querySelector('#' + key + ' button');\n",
              "          quickchartButtonEl.disabled = true;  // To prevent multiple clicks.\n",
              "          quickchartButtonEl.classList.add('colab-df-spinner');\n",
              "          try {\n",
              "            const charts = await google.colab.kernel.invokeFunction(\n",
              "                'suggestCharts', [key], {});\n",
              "          } catch (error) {\n",
              "            console.error('Error during call to suggestCharts:', error);\n",
              "          }\n",
              "          quickchartButtonEl.classList.remove('colab-df-spinner');\n",
              "          quickchartButtonEl.classList.add('colab-df-quickchart-complete');\n",
              "        }\n",
              "        (() => {\n",
              "          let quickchartButtonEl =\n",
              "            document.querySelector('#df-094455b4-6e3e-418f-933f-67ef69773aac button');\n",
              "          quickchartButtonEl.style.display =\n",
              "            google.colab.kernel.accessAllowed ? 'block' : 'none';\n",
              "        })();\n",
              "      </script>\n",
              "    </div>\n",
              "    </div>\n",
              "  </div>\n"
            ],
            "application/vnd.google.colaboratory.intrinsic+json": {
              "type": "dataframe",
              "variable_name": "df",
              "summary": "{\n  \"name\": \"df\",\n  \"rows\": 61,\n  \"fields\": [\n    {\n      \"column\": \"1\",\n      \"properties\": {\n        \"dtype\": \"category\",\n        \"num_unique_values\": 3,\n        \"samples\": [\n          \"ILE\",\n          \"LEU\",\n          \"VAL\"\n        ],\n        \"semantic_type\": \"\",\n        \"description\": \"\"\n      }\n    },\n    {\n      \"column\": \"2\",\n      \"properties\": {\n        \"dtype\": \"category\",\n        \"num_unique_values\": 3,\n        \"samples\": [\n          \"ILE\",\n          \"LEU\",\n          \"VAL\"\n        ],\n        \"semantic_type\": \"\",\n        \"description\": \"\"\n      }\n    },\n    {\n      \"column\": \"3\",\n      \"properties\": {\n        \"dtype\": \"category\",\n        \"num_unique_values\": 3,\n        \"samples\": [\n          \"ILE\",\n          \"LEU\",\n          \"VAL\"\n        ],\n        \"semantic_type\": \"\",\n        \"description\": \"\"\n      }\n    },\n    {\n      \"column\": \"4\",\n      \"properties\": {\n        \"dtype\": \"category\",\n        \"num_unique_values\": 2,\n        \"samples\": [\n          \"LYS\",\n          \"SER\"\n        ],\n        \"semantic_type\": \"\",\n        \"description\": \"\"\n      }\n    },\n    {\n      \"column\": \"5\",\n      \"properties\": {\n        \"dtype\": \"category\",\n        \"num_unique_values\": 1,\n        \"samples\": [\n          \"ASP\"\n        ],\n        \"semantic_type\": \"\",\n        \"description\": \"\"\n      }\n    },\n    {\n      \"column\": \"6\",\n      \"properties\": {\n        \"dtype\": \"category\",\n        \"num_unique_values\": 8,\n        \"samples\": [\n          \"PHE\"\n        ],\n        \"semantic_type\": \"\",\n        \"description\": \"\"\n      }\n    },\n    {\n      \"column\": \"7\",\n      \"properties\": {\n        \"dtype\": \"category\",\n        \"num_unique_values\": 6,\n        \"samples\": [\n          \"SER\"\n        ],\n        \"semantic_type\": \"\",\n        \"description\": \"\"\n      }\n    },\n    {\n      \"column\": \"8\",\n      \"properties\": {\n        \"dtype\": \"category\",\n        \"num_unique_values\": 6,\n        \"samples\": [\n          \"LYS\"\n        ],\n        \"semantic_type\": \"\",\n        \"description\": \"\"\n      }\n    },\n    {\n      \"column\": \"9\",\n      \"properties\": {\n        \"dtype\": \"category\",\n        \"num_unique_values\": 4,\n        \"samples\": [\n          \"ARG\"\n        ],\n        \"semantic_type\": \"\",\n        \"description\": \"\"\n      }\n    },\n    {\n      \"column\": \"Sequence\",\n      \"properties\": {\n        \"dtype\": \"string\",\n        \"num_unique_values\": 61,\n        \"samples\": [\n          \"IIISDYSKE\"\n        ],\n        \"semantic_type\": \"\",\n        \"description\": \"\"\n      }\n    }\n  ]\n}"
            }
          },
          "metadata": {},
          "execution_count": 11
        }
      ],
      "source": [
        "# Dictionary to convert 3-letter amino acid codes to 1-letter codes\n",
        "aa_3to1 = {\n",
        "    'ALA': 'A', 'ARG': 'R', 'ASN': 'N', 'ASP': 'D', 'CYS': 'C',\n",
        "    'GLN': 'Q', 'GLU': 'E', 'GLY': 'G', 'HIS': 'H', 'ILE': 'I',\n",
        "    'LEU': 'L', 'LYS': 'K', 'MET': 'M', 'PHE': 'F', 'PRO': 'P',\n",
        "    'SER': 'S', 'THR': 'T', 'TRP': 'W', 'TYR': 'Y', 'VAL': 'V'\n",
        "}\n",
        "\n",
        "# Empty list to store converted sequences\n",
        "sequences = []\n",
        "\n",
        "# Loop through each row in the DataFrame\n",
        "for i in range(len(df)):\n",
        "    row = df.iloc[i]       # Get the i-th row (a list of 3-letter amino acids)\n",
        "    seq = ''\n",
        "    for aa in row:\n",
        "        seq += aa_3to1[aa]    # Convert each 3-letter code to 1-letter and add to the sequence\n",
        "    sequences.append(seq)     # Add the final sequence to the list\n",
        "\n",
        "print(sequences)\n",
        "# Add the list of sequences as a new column in the DataFrame\n",
        "df['Sequence'] = sequences\n",
        "df\n",
        "\n",
        "# More advanced option: df.apply(lambda row: ''.join(aa_3to1[aa] for aa in row), axis=1)"
      ]
    },
    {
      "cell_type": "markdown",
      "id": "2a20a95e",
      "metadata": {
        "id": "2a20a95e"
      },
      "source": [
        "## Step 2: One-hot Encoding"
      ]
    },
    {
      "cell_type": "markdown",
      "id": "e2afbc84",
      "metadata": {
        "id": "e2afbc84"
      },
      "source": [
        "We will try two different approaches for converting protein sequences into one-hot encoded matrices:\n",
        "\n",
        "- Manual implementation (using Python and NumPy)\n",
        "- Using a library (sklearn.preprocessing.OneHotEncoder)\n",
        "\n",
        "Each amino acid will be represented by a binary vector of length 20, where only one position is \"1\" and the rest are \"0\"."
      ]
    },
    {
      "cell_type": "markdown",
      "id": "c3570b04",
      "metadata": {
        "id": "c3570b04"
      },
      "source": [
        "### Method 1: Manual One-hot encoding"
      ]
    },
    {
      "cell_type": "code",
      "execution_count": null,
      "id": "3d91cb1d",
      "metadata": {
        "colab": {
          "base_uri": "https://localhost:8080/"
        },
        "id": "3d91cb1d",
        "outputId": "cc4e0177-d7f8-4315-f5d7-b7f5b1408c4f"
      },
      "outputs": [
        {
          "output_type": "execute_result",
          "data": {
            "text/plain": [
              "{'A': 0,\n",
              " 'C': 1,\n",
              " 'D': 2,\n",
              " 'E': 3,\n",
              " 'F': 4,\n",
              " 'G': 5,\n",
              " 'H': 6,\n",
              " 'I': 7,\n",
              " 'K': 8,\n",
              " 'L': 9,\n",
              " 'M': 10,\n",
              " 'N': 11,\n",
              " 'P': 12,\n",
              " 'Q': 13,\n",
              " 'R': 14,\n",
              " 'S': 15,\n",
              " 'T': 16,\n",
              " 'V': 17,\n",
              " 'W': 18,\n",
              " 'Y': 19}"
            ]
          },
          "metadata": {},
          "execution_count": 8
        }
      ],
      "source": [
        "# List of all 20 standard amino acids\n",
        "amino_acids = [\"A\", \"C\", \"D\", \"E\", \"F\", \"G\", \"H\", \"I\",\n",
        "               \"K\", \"L\", \"M\", \"N\", \"P\", \"Q\", \"R\", \"S\",\n",
        "               \"T\", \"V\", \"W\", \"Y\"]\n",
        "\n",
        "# Create a dictionary: amino acid → index\n",
        "aa_to_index = {}\n",
        "for i in range(len(amino_acids)):\n",
        "    aa = amino_acids[i]\n",
        "    aa_to_index[aa] = i  # For example: aa_to_index[\"A\"] = 0\n",
        "aa_to_index"
      ]
    },
    {
      "cell_type": "code",
      "execution_count": null,
      "id": "e8816426",
      "metadata": {
        "id": "e8816426",
        "outputId": "70f7c4a9-7da3-4bc8-b16a-a2029c2eb623"
      },
      "outputs": [
        {
          "name": "stdout",
          "output_type": "stream",
          "text": [
            "Original sequence: DYDTDA\n",
            "Encoded sequence shape: (6, 20)\n",
            "One-hot encoding:\n",
            " [[1 1 1 1 1 1 1 1 1 1 1 1 1 1 1 1 1 1 1 1]\n",
            " [1 1 1 1 1 1 1 1 1 1 1 1 1 1 1 1 1 1 1 1]\n",
            " [1 1 1 1 1 1 1 1 1 1 1 1 1 1 1 1 1 1 1 1]\n",
            " [1 1 1 1 1 1 1 1 1 1 1 1 1 1 1 1 1 1 1 1]\n",
            " [1 1 1 1 1 1 1 1 1 1 1 1 1 1 1 1 1 1 1 1]\n",
            " [1 1 1 1 1 1 1 1 1 1 1 1 1 1 1 1 1 1 1 1]]\n"
          ]
        }
      ],
      "source": [
        "# One-hot encoding function\n",
        "def one_hot_encode(seq):\n",
        "    # Create a zero matrix with shape (sequence length, 20)\n",
        "    one_hot = np.zeros((len(seq), len(amino_acids)), dtype=int)\n",
        "\n",
        "    # TODO: Fill the matrix: set 1 at the appropriate index for each amino acid\n",
        "    for i, aa in enumerate(seq):\n",
        "        if aa in aa_to_index:\n",
        "            # Hint: one_hot[row, column]\n",
        "            # Hint: use aa_to_index to find the correct column index\n",
        "            one_hot[...] = 1\n",
        "    return one_hot\n",
        "\n",
        "# Apply one-hot encoding to all sequences in the dataset\n",
        "one_hot_manual = []\n",
        "# Loop through each sequence in the dataset\n",
        "for seq in sequences:\n",
        "    encoded = one_hot_encode(seq)  # Apply the encoding function\n",
        "    one_hot_manual.append(encoded)  # Add the result to the list\n",
        "\n",
        "print(f\"Original sequence: {sequences[0]}\")\n",
        "print(f\"Encoded sequence shape: {one_hot_manual[0].shape}\")\n",
        "print(\"One-hot encoding:\\n\", one_hot_manual[0])"
      ]
    },
    {
      "cell_type": "markdown",
      "id": "560fbeb0",
      "metadata": {
        "id": "560fbeb0"
      },
      "source": [
        "### Method 2: Using `OneHotEncoder` from scikit-learn"
      ]
    },
    {
      "cell_type": "code",
      "execution_count": null,
      "id": "f6ead206",
      "metadata": {
        "colab": {
          "base_uri": "https://localhost:8080/"
        },
        "id": "f6ead206",
        "outputId": "2a3192bf-5743-45e8-cdc2-5def086fb0e9"
      },
      "outputs": [
        {
          "output_type": "stream",
          "name": "stdout",
          "text": [
            "Encoded sequence shape: (6, 20)\n",
            "Original sequence: DYDTDA\n",
            "One-hot encoding:\n",
            " [[0. 0. 1. 0. 0. 0. 0. 0. 0. 0. 0. 0. 0. 0. 0. 0. 0. 0. 0. 0.]\n",
            " [0. 0. 0. 0. 0. 0. 0. 0. 0. 0. 0. 0. 0. 0. 0. 0. 0. 0. 0. 1.]\n",
            " [0. 0. 1. 0. 0. 0. 0. 0. 0. 0. 0. 0. 0. 0. 0. 0. 0. 0. 0. 0.]\n",
            " [0. 0. 0. 0. 0. 0. 0. 0. 0. 0. 0. 0. 0. 0. 0. 0. 1. 0. 0. 0.]\n",
            " [0. 0. 1. 0. 0. 0. 0. 0. 0. 0. 0. 0. 0. 0. 0. 0. 0. 0. 0. 0.]\n",
            " [1. 0. 0. 0. 0. 0. 0. 0. 0. 0. 0. 0. 0. 0. 0. 0. 0. 0. 0. 0.]]\n"
          ]
        }
      ],
      "source": [
        "from sklearn.preprocessing import OneHotEncoder\n",
        "\n",
        "encoder = OneHotEncoder(categories=[amino_acids], handle_unknown='ignore', sparse_output=False)\n",
        "\n",
        "one_hot_sklearn = []\n",
        "for seq in sequences:\n",
        "    # Split sequence into list of single characters and reshape\n",
        "    aa_list = np.array(list(seq)).reshape(-1, 1)\n",
        "    one_hot = encoder.fit_transform(aa_list)\n",
        "    one_hot_sklearn.append(one_hot)\n",
        "\n",
        "print(f\"Encoded sequence shape: {one_hot_sklearn[0].shape}\")\n",
        "print(f\"Original sequence: {sequences[0]}\")\n",
        "print(\"One-hot encoding:\\n\", one_hot_sklearn[0])"
      ]
    },
    {
      "cell_type": "markdown",
      "id": "e6b24e46",
      "metadata": {
        "id": "e6b24e46"
      },
      "source": [
        "Most traditional machine learning models, such as Logistic Regression, Support Vector Machines (SVM), or Random Forests, expect 1D feature vectors as input — not 2D matrices.\n",
        "\n",
        "However, after applying encodings like one-hot, VHSE8, or BLOSUM, each protein sequence is represented as a 2D matrix of shape.\n",
        "To feed this into a machine learning model, we need to flatten this matrix into a single vector:"
      ]
    },
    {
      "cell_type": "code",
      "execution_count": null,
      "id": "2f90d4bf",
      "metadata": {
        "colab": {
          "base_uri": "https://localhost:8080/"
        },
        "id": "2f90d4bf",
        "outputId": "a564d399-9baa-4afc-b7ab-40379b2996b3"
      },
      "outputs": [
        {
          "output_type": "stream",
          "name": "stdout",
          "text": [
            "Flattened shape: (120,)\n"
          ]
        },
        {
          "output_type": "execute_result",
          "data": {
            "text/plain": [
              "array([0., 0., 1., 0., 0., 0., 0., 0., 0., 0., 0., 0., 0., 0., 0., 0., 0.,\n",
              "       0., 0., 0., 0., 0., 0., 0., 0., 0., 0., 0., 0., 0., 0., 0., 0., 0.,\n",
              "       0., 0., 0., 0., 0., 1., 0., 0., 1., 0., 0., 0., 0., 0., 0., 0., 0.,\n",
              "       0., 0., 0., 0., 0., 0., 0., 0., 0., 0., 0., 0., 0., 0., 0., 0., 0.,\n",
              "       0., 0., 0., 0., 0., 0., 0., 0., 1., 0., 0., 0., 0., 0., 1., 0., 0.,\n",
              "       0., 0., 0., 0., 0., 0., 0., 0., 0., 0., 0., 0., 0., 0., 0., 1., 0.,\n",
              "       0., 0., 0., 0., 0., 0., 0., 0., 0., 0., 0., 0., 0., 0., 0., 0., 0.,\n",
              "       0.])"
            ]
          },
          "metadata": {},
          "execution_count": 14
        }
      ],
      "source": [
        "print(\"Flattened shape:\", one_hot_sklearn[0].flatten().shape)\n",
        "one_hot_sklearn[0].flatten()"
      ]
    },
    {
      "cell_type": "code",
      "execution_count": null,
      "id": "42aa17be",
      "metadata": {
        "id": "42aa17be"
      },
      "outputs": [],
      "source": [
        "# Flatten each one-hot matrix into a vector\n",
        "one_hot_flattened = [mat.flatten() for mat in one_hot_sklearn]"
      ]
    },
    {
      "cell_type": "code",
      "execution_count": null,
      "id": "f85f61ff",
      "metadata": {
        "id": "f85f61ff"
      },
      "outputs": [],
      "source": [
        "# Create a DataFrame from the list of flattened vectors\n",
        "df_onehot = pd.DataFrame(one_hot_flattened)\n",
        "\n",
        "# Optionally, add the original sequence for reference\n",
        "df_onehot['Sequence'] = sequences\n",
        "\n",
        "# Save to CSV\n",
        "df_onehot.to_csv(\"onehot_flattened.csv\", index=False)"
      ]
    },
    {
      "cell_type": "markdown",
      "id": "fe478450",
      "metadata": {
        "id": "fe478450"
      },
      "source": [
        "## Step 3: VHSE8 Encoding"
      ]
    },
    {
      "cell_type": "markdown",
      "id": "134777b3",
      "metadata": {
        "id": "134777b3"
      },
      "source": [
        "The VHSE8 encoding represents each amino acid as an 8-dimensional vector based on **principal components** of physicochemical properties (e.g., hydrophobicity, charge, steric effects).  \n",
        "These descriptors capture biologically meaningful similarities between amino acids and are often used in classical ML models.\n",
        "\n",
        "Since there is no convenient and standard library in Python that performs VHSE8 encoding, we implement it ourselves.\n",
        "\n",
        "Steps:\n",
        "1. Create a dictionary of VHSE8 vectors for standard amino acids.\n",
        "2. Encode each sequence into an `L × 8` matrix."
      ]
    },
    {
      "cell_type": "code",
      "execution_count": null,
      "id": "b28ef133",
      "metadata": {
        "id": "b28ef133"
      },
      "outputs": [],
      "source": [
        "# Define VHSE8 encoding table\n",
        "vhse8_table = {\n",
        "    'A': [0.06, 0.32, -0.66, -0.22, 0.07, 0.09, -0.06, -0.12],\n",
        "    'C': [0.01, 0.84, 0.79, -0.23, -0.12, -0.22, -0.14, -0.06],\n",
        "    'D': [0.64, -0.02, 0.07, 0.67, -0.19, -0.20, -0.16, -0.25],\n",
        "    'E': [0.46, -0.03, -0.04, 0.73, -0.05, -0.19, -0.15, -0.19],\n",
        "    'F': [-0.55, -0.20, 1.25, -0.13, 0.08, 0.22, 0.12, -0.01],\n",
        "    'G': [0.28, 0.26, -0.89, 0.07, -0.06, -0.01, -0.09, -0.17],\n",
        "    'H': [0.12, 0.10, 0.23, 0.39, 0.09, 0.14, 0.07, 0.32],\n",
        "    'I': [-0.59, -0.32, 0.31, -0.27, 0.13, 0.10, -0.02, -0.12],\n",
        "    'K': [0.23, -0.03, -0.18, 1.11, 0.01, -0.06, 0.05, 0.07],\n",
        "    'L': [-0.55, -0.26, 0.30, -0.23, 0.14, 0.12, -0.03, -0.10],\n",
        "    'M': [-0.34, 0.00, 0.33, -0.06, 0.07, 0.09, 0.03, -0.08],\n",
        "    'N': [0.50, 0.00, -0.05, 0.49, -0.16, -0.08, -0.10, -0.16],\n",
        "    'P': [-0.01, 0.38, -0.27, -0.27, 0.07, 0.05, -0.04, -0.23],\n",
        "    'Q': [0.31, -0.03, -0.01, 0.55, -0.08, -0.06, -0.07, -0.12],\n",
        "    'R': [0.25, 0.00, -0.03, 1.10, -0.06, 0.01, 0.07, 0.23],\n",
        "    'S': [0.21, 0.37, -0.48, 0.11, -0.07, -0.02, -0.10, -0.08],\n",
        "    'T': [0.08, 0.24, -0.30, 0.01, 0.00, 0.00, -0.07, -0.06],\n",
        "    'V': [-0.46, -0.18, 0.10, -0.24, 0.09, 0.06, -0.02, -0.08],\n",
        "    'W': [-0.33, -0.13, 1.29, 0.08, 0.04, 0.27, 0.17, 0.27],\n",
        "    'Y': [-0.25, -0.06, 0.86, 0.13, 0.05, 0.24, 0.16, 0.10]\n",
        "}\n"
      ]
    },
    {
      "cell_type": "code",
      "execution_count": null,
      "id": "746b7a0f",
      "metadata": {
        "colab": {
          "base_uri": "https://localhost:8080/"
        },
        "id": "746b7a0f",
        "outputId": "b1dc50aa-47f2-4726-da2b-ee1dc8ad6f09"
      },
      "outputs": [
        {
          "output_type": "stream",
          "name": "stdout",
          "text": [
            "Example VHSE8 shape: (6, 8)\n",
            "Original sequence: DYDTDA\n",
            "VHSE8 encoding:\n",
            " [[ 0.64 -0.02  0.07  0.67 -0.19 -0.2  -0.16 -0.25]\n",
            " [-0.25 -0.06  0.86  0.13  0.05  0.24  0.16  0.1 ]\n",
            " [ 0.64 -0.02  0.07  0.67 -0.19 -0.2  -0.16 -0.25]\n",
            " [ 0.08  0.24 -0.3   0.01  0.    0.   -0.07 -0.06]\n",
            " [ 0.64 -0.02  0.07  0.67 -0.19 -0.2  -0.16 -0.25]\n",
            " [ 0.06  0.32 -0.66 -0.22  0.07  0.09 -0.06 -0.12]]\n"
          ]
        }
      ],
      "source": [
        "vhse_encoded = []  # Create an empty list to store encoded sequences\n",
        "\n",
        "# Go through each sequence one by one\n",
        "for seq in sequences:\n",
        "    vecs = []  # This will store the VHSE8 vectors for the current sequence\n",
        "\n",
        "    # Go through each amino acid in the sequence\n",
        "    for aa in seq:\n",
        "        vector = vhse8_table[aa]  # Get the VHSE8 vector for this amino acid\n",
        "        vecs.append(vector)       # Add the vector to the list for this sequence\n",
        "\n",
        "    # Convert the list of vectors to a NumPy array and save it\n",
        "    vhse_encoded.append(np.array(vecs))\n",
        "\n",
        "print(f\"Example VHSE8 shape: {vhse_encoded[0].shape}\")\n",
        "print(f\"Original sequence: {sequences[0]}\")\n",
        "print(\"VHSE8 encoding:\\n\", vhse_encoded[0])"
      ]
    },
    {
      "cell_type": "code",
      "execution_count": null,
      "id": "8aac31f0",
      "metadata": {
        "id": "8aac31f0"
      },
      "outputs": [],
      "source": [
        "# Flatten each one-hot matrix into a vector\n",
        "vhse_flattened = [mat.flatten() for mat in vhse_encoded]\n",
        "\n",
        "# Create a DataFrame from the list of flattened vectors\n",
        "df_vhse = pd.DataFrame(vhse_flattened)\n",
        "\n",
        "# Optionally, add the original sequence for reference\n",
        "df_vhse['Sequence'] = sequences\n",
        "\n",
        "# Save to CSV\n",
        "df_vhse.to_csv(\"vhse_flattened.csv\", index=False)"
      ]
    },
    {
      "cell_type": "markdown",
      "id": "b901f8a8",
      "metadata": {
        "id": "b901f8a8"
      },
      "source": [
        "## Step 4: BLOSUM Encoding"
      ]
    },
    {
      "cell_type": "markdown",
      "id": "c3e95e91",
      "metadata": {
        "id": "c3e95e91"
      },
      "source": [
        "BLOSUM62 (Blocks Substitution Matrix) captures how frequently one amino acid substitutes for another in conserved blocks of protein sequences.  \n",
        "Each amino acid is represented as a **20-dimensional vector** corresponding to substitution scores with the other 19 amino acids + itself.\n",
        "\n",
        "Steps:\n",
        "1. Create a BLOSUM62 matrix dictionary.\n",
        "2. Map each sequence to a matrix of shape `L × 20`."
      ]
    },
    {
      "cell_type": "code",
      "execution_count": null,
      "id": "28c45610",
      "metadata": {
        "id": "28c45610"
      },
      "outputs": [],
      "source": [
        "# List of amino acids in the order corresponding to rows and columns of the matrix\n",
        "aa_order = ['A', 'R', 'N', 'D', 'C', 'Q', 'E', 'G', 'H', 'I',\n",
        "            'L', 'K', 'M', 'F', 'P', 'S', 'T', 'W', 'Y', 'V']\n",
        "\n",
        "# BLOSUM62 matrix: each row corresponds to an amino acid in aa_order\n",
        "# Each number represents the substitution score between the row amino acid and\n",
        "# the column amino acid (following the same aa_order)\n",
        "blosum62_matrix = [\n",
        "    [ 4, -1, -2, -2,  0, -1, -1,  0, -2, -1, -1, -1, -1, -2, -1,  1,  0, -3, -2,  0],  # A\n",
        "    [-1,  5,  0, -2, -3,  1,  0, -2,  0, -3, -2,  2, -1, -3, -2, -1, -1, -3, -2, -3],  # R\n",
        "    [-2,  0,  6,  1, -3,  0,  0,  0,  1, -3, -3,  0, -2, -3, -2,  1,  0, -4, -2, -3],  # N\n",
        "    [-2, -2,  1,  6, -3,  0,  2, -1, -1, -3, -4, -1, -3, -3, -1,  0, -1, -4, -3, -3],  # D\n",
        "    [ 0, -3, -3, -3,  9, -3, -4, -3, -3, -1, -1, -3, -1, -2, -3, -1, -1, -2, -2, -1],  # C\n",
        "    [-1,  1,  0,  0, -3,  5,  2, -2,  0, -3, -2,  1,  0, -3, -1,  0, -1, -2, -1, -2],  # Q\n",
        "    [-1,  0,  0,  2, -4,  2,  5, -2,  0, -3, -3,  1, -2, -3, -1,  0, -1, -3, -2, -2],  # E\n",
        "    [ 0, -2,  0, -1, -3, -2, -2,  6, -2, -4, -4, -2, -3, -3, -2,  0, -2, -2, -3, -3],  # G\n",
        "    [-2,  0,  1, -1, -3,  0,  0, -2,  8, -3, -3, -1, -2, -1, -2, -1, -2, -2,  2, -3],  # H\n",
        "    [-1, -3, -3, -3, -1, -3, -3, -4, -3,  4,  2, -3,  1,  0, -3, -2, -1, -3, -1,  3],  # I\n",
        "    [-1, -2, -3, -4, -1, -2, -3, -4, -3,  2,  4, -2,  2,  0, -3, -2, -1, -2, -1,  1],  # L\n",
        "    [-1,  2,  0, -1, -3,  1,  1, -2, -1, -3, -2,  5, -1, -3, -1,  0, -1, -3, -2, -2],  # K\n",
        "    [-1, -1, -2, -3, -1,  0, -2, -3, -2,  1,  2, -1,  5,  0, -2, -1, -1, -1, -1,  1],  # M\n",
        "    [-2, -3, -3, -3, -2, -3, -3, -3, -1,  0,  0, -3,  0,  6, -4, -2, -2,  1,  3, -1],  # F\n",
        "    [-1, -2, -2, -1, -3, -1, -1, -2, -2, -3, -3, -1, -2, -4,  7, -1, -1, -4, -3, -2],  # P\n",
        "    [ 1, -1,  1,  0, -1,  0,  0,  0, -1, -2, -2,  0, -1, -2, -1,  4,  1, -3, -2, -2],  # S\n",
        "    [ 0, -1,  0, -1, -1, -1, -1, -2, -2, -1, -1, -1, -1, -2, -1,  1,  5, -2, -2,  0],  # T\n",
        "    [-3, -3, -4, -4, -2, -2, -3, -2, -2, -3, -2, -3, -1,  1, -4, -3, -2, 11,  2, -3],  # W\n",
        "    [-2, -2, -2, -3, -2, -1, -2, -3,  2, -1, -1, -2, -1,  3, -3, -2, -2,  2,  7, -1],  # Y\n",
        "    [ 0, -3, -3, -3, -1, -2, -2, -3, -3,  3,  1, -2,  1, -1, -2, -2,  0, -3, -1,  4],  # V\n",
        "]\n"
      ]
    },
    {
      "cell_type": "code",
      "execution_count": null,
      "id": "e1cc01b6",
      "metadata": {
        "colab": {
          "base_uri": "https://localhost:8080/"
        },
        "id": "e1cc01b6",
        "outputId": "661b8caf-7bf7-467a-cde1-f883c37d5930"
      },
      "outputs": [
        {
          "output_type": "stream",
          "name": "stdout",
          "text": [
            "A [4, -1, -2, -2, 0, -1, -1, 0, -2, -1, -1, -1, -1, -2, -1, 1, 0, -3, -2, 0]\n",
            "R [-1, 5, 0, -2, -3, 1, 0, -2, 0, -3, -2, 2, -1, -3, -2, -1, -1, -3, -2, -3]\n",
            "N [-2, 0, 6, 1, -3, 0, 0, 0, 1, -3, -3, 0, -2, -3, -2, 1, 0, -4, -2, -3]\n",
            "D [-2, -2, 1, 6, -3, 0, 2, -1, -1, -3, -4, -1, -3, -3, -1, 0, -1, -4, -3, -3]\n",
            "C [0, -3, -3, -3, 9, -3, -4, -3, -3, -1, -1, -3, -1, -2, -3, -1, -1, -2, -2, -1]\n",
            "Q [-1, 1, 0, 0, -3, 5, 2, -2, 0, -3, -2, 1, 0, -3, -1, 0, -1, -2, -1, -2]\n",
            "E [-1, 0, 0, 2, -4, 2, 5, -2, 0, -3, -3, 1, -2, -3, -1, 0, -1, -3, -2, -2]\n",
            "G [0, -2, 0, -1, -3, -2, -2, 6, -2, -4, -4, -2, -3, -3, -2, 0, -2, -2, -3, -3]\n",
            "H [-2, 0, 1, -1, -3, 0, 0, -2, 8, -3, -3, -1, -2, -1, -2, -1, -2, -2, 2, -3]\n",
            "I [-1, -3, -3, -3, -1, -3, -3, -4, -3, 4, 2, -3, 1, 0, -3, -2, -1, -3, -1, 3]\n",
            "L [-1, -2, -3, -4, -1, -2, -3, -4, -3, 2, 4, -2, 2, 0, -3, -2, -1, -2, -1, 1]\n",
            "K [-1, 2, 0, -1, -3, 1, 1, -2, -1, -3, -2, 5, -1, -3, -1, 0, -1, -3, -2, -2]\n",
            "M [-1, -1, -2, -3, -1, 0, -2, -3, -2, 1, 2, -1, 5, 0, -2, -1, -1, -1, -1, 1]\n",
            "F [-2, -3, -3, -3, -2, -3, -3, -3, -1, 0, 0, -3, 0, 6, -4, -2, -2, 1, 3, -1]\n",
            "P [-1, -2, -2, -1, -3, -1, -1, -2, -2, -3, -3, -1, -2, -4, 7, -1, -1, -4, -3, -2]\n",
            "S [1, -1, 1, 0, -1, 0, 0, 0, -1, -2, -2, 0, -1, -2, -1, 4, 1, -3, -2, -2]\n",
            "T [0, -1, 0, -1, -1, -1, -1, -2, -2, -1, -1, -1, -1, -2, -1, 1, 5, -2, -2, 0]\n",
            "W [-3, -3, -4, -4, -2, -2, -3, -2, -2, -3, -2, -3, -1, 1, -4, -3, -2, 11, 2, -3]\n",
            "Y [-2, -2, -2, -3, -2, -1, -2, -3, 2, -1, -1, -2, -1, 3, -3, -2, -2, 2, 7, -1]\n",
            "V [0, -3, -3, -3, -1, -2, -2, -3, -3, 3, 1, -2, 1, -1, -2, -2, 0, -3, -1, 4]\n"
          ]
        }
      ],
      "source": [
        "# Create a dictionary for quick access by amino acid\n",
        "blosum62_dict = {}\n",
        "\n",
        "# Loop through each amino acid and its index in the aa_order list\n",
        "for i, aa in enumerate(aa_order):\n",
        "    # Assign the corresponding row from the matrix to the dictionary key (amino acid)\n",
        "    blosum62_dict[aa] = blosum62_matrix[i]\n",
        "\n",
        "for i in range(20):\n",
        "    print(aa_order[i],blosum62_dict[aa_order[i]])"
      ]
    },
    {
      "cell_type": "code",
      "execution_count": null,
      "id": "2b67658a",
      "metadata": {
        "colab": {
          "base_uri": "https://localhost:8080/"
        },
        "id": "2b67658a",
        "outputId": "b925b33a-a1d4-4e0f-80b4-a66094af17d9"
      },
      "outputs": [
        {
          "output_type": "stream",
          "name": "stdout",
          "text": [
            "A row: [4, -1, -2, -2, 0, -1, -1, 0, -2, -1, -1, -1, -1, -2, -1, 1, 0, -3, -2, 0]\n",
            "Index of R: 1\n",
            "Score for A->R: -1\n"
          ]
        }
      ],
      "source": [
        "# Get the substitution scores row for amino acid 'A'\n",
        "row = blosum62_dict['A']\n",
        "print(\"A row:\", row)\n",
        "\n",
        "# Find the index of amino acid 'R' in the aa_order list\n",
        "index_of_R = aa_order.index('R')\n",
        "print(\"Index of R:\", index_of_R)\n",
        "\n",
        "# Retrieve the substitution score for substituting 'A' with 'R'\n",
        "score = row[index_of_R]\n",
        "print(\"Score for A->R:\", score)"
      ]
    },
    {
      "cell_type": "code",
      "execution_count": null,
      "id": "64ce5510",
      "metadata": {
        "colab": {
          "base_uri": "https://localhost:8080/"
        },
        "id": "64ce5510",
        "outputId": "68844c00-f116-4f50-f1b6-06469d2d9c19"
      },
      "outputs": [
        {
          "output_type": "stream",
          "name": "stdout",
          "text": [
            "Example BLOSUM62 shape: (9, 20)\n",
            "Original sequence: IIISDYSKE\n",
            "BLOSUM62 encoding:\n",
            " [[-1 -3 -3 -3 -1 -3 -3 -4 -3  4  2 -3  1  0 -3 -2 -1 -3 -1  3]\n",
            " [-1 -3 -3 -3 -1 -3 -3 -4 -3  4  2 -3  1  0 -3 -2 -1 -3 -1  3]\n",
            " [-1 -3 -3 -3 -1 -3 -3 -4 -3  4  2 -3  1  0 -3 -2 -1 -3 -1  3]\n",
            " [ 1 -1  1  0 -1  0  0  0 -1 -2 -2  0 -1 -2 -1  4  1 -3 -2 -2]\n",
            " [-2 -2  1  6 -3  0  2 -1 -1 -3 -4 -1 -3 -3 -1  0 -1 -4 -3 -3]\n",
            " [-2 -2 -2 -3 -2 -1 -2 -3  2 -1 -1 -2 -1  3 -3 -2 -2  2  7 -1]\n",
            " [ 1 -1  1  0 -1  0  0  0 -1 -2 -2  0 -1 -2 -1  4  1 -3 -2 -2]\n",
            " [-1  2  0 -1 -3  1  1 -2 -1 -3 -2  5 -1 -3 -1  0 -1 -3 -2 -2]\n",
            " [-1  0  0  2 -4  2  5 -2  0 -3 -3  1 -2 -3 -1  0 -1 -3 -2 -2]]\n"
          ]
        }
      ],
      "source": [
        "blosum_encoded = []  # This will store the encoded sequences as arrays\n",
        "\n",
        "for seq in sequences:\n",
        "    vecs = []  # Temporary list to store vectors for each amino acid in the sequence\n",
        "\n",
        "    # Loop through each amino acid in the sequence\n",
        "    for aa in seq:\n",
        "        # Get the BLOSUM62 vector (score row) for this amino acid\n",
        "        vector = blosum62_dict[aa]\n",
        "        # Add this vector to the temporary list\n",
        "        vecs.append(vector)\n",
        "\n",
        "    # Convert the list of vectors to a NumPy array and append to the encoded list\n",
        "    blosum_encoded.append(np.array(vecs))\n",
        "\n",
        "print(f\"Example BLOSUM62 shape: {blosum_encoded[0].shape}\")\n",
        "print(f\"Original sequence: {sequences[0]}\")\n",
        "print(\"BLOSUM62 encoding:\\n\", blosum_encoded[0])"
      ]
    },
    {
      "cell_type": "code",
      "execution_count": null,
      "id": "bdcd143d",
      "metadata": {
        "id": "bdcd143d"
      },
      "outputs": [],
      "source": [
        "# Flatten each one-hot matrix into a vector\n",
        "blosum_flattened = [mat.flatten() for mat in blosum_encoded]\n",
        "\n",
        "# Create a DataFrame from the list of flattened vectors\n",
        "df_blosum = pd.DataFrame(blosum_flattened)\n",
        "\n",
        "# Optionally, add the original sequence for reference\n",
        "df_blosum['Sequence'] = sequences\n",
        "\n",
        "# Save to CSV\n",
        "df_blosum.to_csv(\"blosum_flattened.csv\", index=False)"
      ]
    },
    {
      "cell_type": "markdown",
      "id": "89fc36a1",
      "metadata": {
        "id": "89fc36a1"
      },
      "source": [
        "## Step 5: ProtVec Embedding"
      ]
    },
    {
      "cell_type": "code",
      "source": [
        "# Load the ProtVec file (each row: 3-mer + 100 numbers)\n",
        "protvec_df = pd.read_csv('protVec_100d_3grams_clean.csv', delimiter='\\t', header=None)\n",
        "\n",
        "# Create a dictionary: {3-mer (e.g., 'AAA') : 100-dimensional vector}\n",
        "protvec_dict = {}\n",
        "\n",
        "for i, row in protvec_df.iterrows():\n",
        "    kmer = row[0]  # First column: the 3-mer string\n",
        "    vector = row[1:].to_numpy(dtype=float)  # Remaining columns: vector values\n",
        "    protvec_dict[kmer] = vector  # Add to dictionary\n",
        "\n",
        "# Get vector size (should be 100)\n",
        "protvec_dim = len(vector)\n",
        "print(protvec_dim)"
      ],
      "metadata": {
        "colab": {
          "base_uri": "https://localhost:8080/"
        },
        "id": "HSy_07jIu6tl",
        "outputId": "c57046ea-6103-42cc-f6f5-af0751ce4da4"
      },
      "id": "HSy_07jIu6tl",
      "execution_count": null,
      "outputs": [
        {
          "output_type": "stream",
          "name": "stdout",
          "text": [
            "100\n"
          ]
        }
      ]
    },
    {
      "cell_type": "code",
      "source": [
        "# --- Function to convert sequence into overlapping 3-mers (trimers) ---\n",
        "def get_trimers(seq):\n",
        "    trimers = []\n",
        "    for i in range(len(seq) - 2):\n",
        "        trimer = seq[i:i+3]\n",
        "        trimers.append(trimer)\n",
        "    return trimers\n",
        "\n",
        "# --- Encode all sequences using ProtVec ---\n",
        "protvec_encoded = []\n",
        "# Iterate by sequence\n",
        "for seq in sequences:\n",
        "    trimers = get_trimers(seq) # Convert sequence into 3-mers\n",
        "    print(seq, trimers)\n",
        "    vec_list = []\n",
        "\n",
        "    for tri in trimers:\n",
        "        vec = protvec_dict[tri] # Get vector for this 3-mer\n",
        "        vec_list.append(vec)  # Add to list of vectors\n",
        "\n",
        "    # Convert list of vectors to a 2D NumPy array and save\n",
        "    protvec_encoded.append(np.array(vec_list))\n",
        "\n",
        "# --- Example output ---\n",
        "print(f\"Original sequence: {sequences[0]}\")\n",
        "print(f\"ProtVec shape: {protvec_encoded[0].shape}\")  # (length - 2, 100)\n",
        "print(\"ProtVec encoding:\\n\", protvec_encoded[0])"
      ],
      "metadata": {
        "colab": {
          "base_uri": "https://localhost:8080/"
        },
        "id": "Age-S96NuC9a",
        "outputId": "1292b68c-3217-42c1-cac2-b30cd45e99b0"
      },
      "id": "Age-S96NuC9a",
      "execution_count": null,
      "outputs": [
        {
          "output_type": "stream",
          "name": "stdout",
          "text": [
            "DYDTDA ['DYD', 'YDT', 'DTD', 'TDA']\n",
            "DYSGSA ['DYS', 'YSG', 'SGS', 'GSA']\n",
            "DYSGDA ['DYS', 'YSG', 'SGD', 'GDA']\n",
            "DYDGSA ['DYD', 'YDG', 'DGS', 'GSA']\n",
            "DYSGDA ['DYS', 'YSG', 'SGD', 'GDA']\n",
            "DYTADA ['DYT', 'YTA', 'TAD', 'ADA']\n",
            "DYDYDA ['DYD', 'YDY', 'DYD', 'YDA']\n",
            "DYTNTA ['DYT', 'YTN', 'TNT', 'NTA']\n",
            "DYTGTA ['DYT', 'YTG', 'TGT', 'GTA']\n",
            "DYDRSA ['DYD', 'YDR', 'DRS', 'RSA']\n",
            "Original sequence: DYDTDA\n",
            "ProtVec shape: (4, 100)\n",
            "ProtVec encoding:\n",
            " [[-1.58384e-01  1.24239e-01  2.00550e-01 -8.87380e-02 -4.39530e-02\n",
            "  -7.71500e-02  1.30011e-01  1.68733e-01 -1.02707e-01  6.51920e-02\n",
            "  -2.16720e-02 -5.14540e-02  7.70190e-02 -8.48320e-02  2.95370e-02\n",
            "   8.59940e-02  2.87633e-01 -6.81140e-02  1.37510e-01 -1.17242e-01\n",
            "  -2.06480e-02  1.39288e-01 -1.76245e-01  1.65955e-01  2.04870e-01\n",
            "   1.15679e-01  6.29910e-02 -7.73680e-02  3.29450e-02  1.33326e-01\n",
            "   9.67980e-02 -7.34580e-02  2.03078e-01 -1.53608e-01 -7.79490e-02\n",
            "  -4.88610e-02 -3.99820e-02  3.87539e-01  1.09483e-01  7.71050e-02\n",
            "   5.65310e-02  2.75263e-01  3.82710e-02  3.44310e-02  7.05420e-02\n",
            "  -1.33241e-01  1.56600e-02  7.11050e-02  3.81440e-02  1.68887e-01\n",
            "   3.66810e-02 -3.93790e-02  2.02992e-01 -8.51610e-02 -1.89744e-01\n",
            "   9.95600e-03  8.90480e-02 -2.42700e-02  7.30820e-02 -5.69880e-02\n",
            "   4.93360e-02  2.14962e-01 -3.37860e-02  1.16635e-01  1.12067e-01\n",
            "  -6.82710e-02 -6.90090e-02 -2.68250e-02 -1.97556e-01 -1.95559e-01\n",
            "  -4.51170e-02  1.72332e-01 -1.07923e-01 -1.04724e-01  1.50261e-01\n",
            "   3.76030e-02  1.21625e-01  1.64444e-01  7.08090e-02 -1.59538e-01\n",
            "   3.77900e-03  3.10874e-01  1.12719e-01 -8.10630e-02  1.91769e-01\n",
            "   3.50150e-02  5.04800e-03 -2.69957e-01  1.07960e-01 -5.33490e-02\n",
            "  -6.53680e-02 -6.28030e-02  4.35000e-02 -5.21800e-02  6.22110e-02\n",
            "   8.12280e-02  8.13030e-02 -2.00877e-01 -1.06523e-01 -2.45109e-01]\n",
            " [-1.85689e-01 -4.15250e-02 -2.69620e-02 -2.04548e-01  1.09264e-01\n",
            "  -9.26760e-02  4.84480e-02 -1.57315e-01 -1.80729e-01  7.45960e-02\n",
            "   6.60920e-02 -1.72615e-01 -1.93920e-02  1.56260e-02  1.50625e-01\n",
            "   8.69960e-02 -1.04478e-01  1.85689e-01 -2.38354e-01 -9.28980e-02\n",
            "   1.97273e-01  4.30950e-02 -1.31513e-01  2.24010e-02 -7.79360e-02\n",
            "  -1.86553e-01  8.86470e-02  6.94000e-02  1.86524e-01 -4.73790e-02\n",
            "  -6.16140e-02  1.44226e-01  5.32090e-02 -1.74742e-01  7.79760e-02\n",
            "  -1.14891e-01  6.23950e-02  7.00690e-02 -1.44239e-01  2.05374e-01\n",
            "   1.21300e-03 -1.48949e-01  2.62524e-01  1.52040e-01  5.72380e-02\n",
            "  -4.26600e-02 -4.68940e-02  1.14331e-01 -1.28791e-01  2.31000e-04\n",
            "  -1.22831e-01  1.66342e-01 -5.40360e-02 -6.36260e-02  2.15971e-01\n",
            "  -1.43217e-01 -1.40269e-01 -1.48241e-01  8.31910e-02 -3.57700e-02\n",
            "  -8.76400e-02  1.85436e-01  7.47520e-02  3.96700e-03 -1.15902e-01\n",
            "   8.67190e-02 -1.12283e-01  7.31200e-03 -1.11487e-01 -3.43812e-01\n",
            "   1.02360e-02 -2.20860e-02 -2.27111e-01  9.16420e-02  2.65470e-02\n",
            "   1.79800e-02  1.15752e-01  1.16725e-01 -5.24780e-02  8.93400e-02\n",
            "   6.47950e-02 -1.02013e-01 -1.09075e-01 -1.61431e-01 -4.37950e-02\n",
            "  -8.22150e-02  2.57910e-02 -1.05619e-01 -5.77960e-02  2.07860e-02\n",
            "  -2.17580e-01 -1.23100e-03 -2.26560e-01 -6.62600e-02  4.39330e-02\n",
            "   7.09720e-02  4.64840e-02 -9.52950e-02 -1.31896e-01  9.48140e-02]\n",
            " [-1.41630e-02 -2.31640e-02 -5.83230e-02 -7.15640e-02  6.53760e-02\n",
            "  -9.09220e-02  7.38040e-02 -1.46161e-01  8.15570e-02  6.51640e-02\n",
            "   9.03300e-03  1.92536e-01  3.92870e-02 -2.23300e-03 -6.47990e-02\n",
            "   2.92040e-02 -4.30480e-02 -1.27270e-01 -2.10910e-02  1.61634e-01\n",
            "   2.10330e-02 -1.09241e-01 -5.60500e-02  1.51845e-01 -4.81200e-02\n",
            "   6.01440e-02 -1.14519e-01 -3.09800e-03  4.71370e-02 -1.05246e-01\n",
            "  -1.86860e-02 -1.30510e-01  1.72147e-01 -3.93540e-02  3.31980e-02\n",
            "   3.44410e-02  4.97350e-02 -5.39820e-02  2.41310e-01 -9.77570e-02\n",
            "  -1.40510e-02  1.09063e-01  2.05732e-01 -3.82130e-02 -5.45600e-02\n",
            "  -4.67730e-02 -1.34699e-01  5.62660e-02 -1.20213e-01  1.32706e-01\n",
            "   1.38849e-01  8.23200e-03  4.09160e-02 -1.89050e-01 -1.09669e-01\n",
            "  -4.34640e-02  1.26979e-01 -1.23303e-01  4.41230e-02 -8.63820e-02\n",
            "   8.40060e-02 -1.16640e-02 -1.28020e-01  2.31681e-01  1.97490e-02\n",
            "  -2.41430e-02 -1.08152e-01  1.10836e-01  7.98330e-02 -8.51570e-02\n",
            "   1.49131e-01  3.07310e-02 -3.02400e-02  2.12300e-03  1.96510e-02\n",
            "  -3.28550e-02  1.12852e-01  4.65910e-02 -8.05710e-02  8.34120e-02\n",
            "  -5.86310e-02  1.77799e-01  1.29160e-02  1.37277e-01  1.10783e-01\n",
            "  -9.29960e-02  3.50610e-02 -4.66110e-02  4.16300e-03 -6.46770e-02\n",
            "   2.94710e-02  1.34230e-01  7.48890e-02  4.65020e-02 -8.14070e-02\n",
            "   2.74860e-02  1.19340e-01 -4.42830e-02 -6.21190e-02  4.38960e-02]\n",
            " [-8.70690e-02 -4.84670e-02  1.99761e-01  8.90500e-03  3.92490e-02\n",
            "  -4.29550e-02  2.55970e-02  1.94240e-02  1.04168e-01  2.31488e-01\n",
            "   4.55280e-02 -9.90990e-02 -1.27648e-01  8.18730e-02 -1.19920e-02\n",
            "  -3.12810e-02 -1.36560e-02  3.77280e-02 -6.76900e-02 -4.01730e-02\n",
            "   1.14616e-01 -5.39500e-02  1.46820e-02  6.66320e-02  7.66330e-02\n",
            "   3.26460e-02 -7.74510e-02 -3.89620e-02 -2.19450e-02 -1.03057e-01\n",
            "  -1.66830e-02 -8.90700e-02  2.98800e-03  7.04600e-03 -5.92600e-03\n",
            "   5.96210e-02  4.77500e-03 -2.54080e-02  8.16390e-02  1.69250e-02\n",
            "   9.22860e-02 -7.17800e-03 -9.21800e-03  2.31460e-02  2.05700e-02\n",
            "   7.52370e-02 -2.19640e-02 -2.06060e-02 -5.87320e-02  5.39660e-02\n",
            "   1.69242e-01 -5.31500e-02  4.81190e-02 -6.54220e-02  3.54710e-02\n",
            "  -2.38660e-02  7.11290e-02  3.75000e-03 -3.89860e-02 -8.13040e-02\n",
            "   8.20500e-03 -3.07800e-03 -3.77730e-02  9.89730e-02 -1.10081e-01\n",
            "   6.09280e-02  2.07400e-02  1.40438e-01  1.03463e-01 -4.01400e-03\n",
            "   8.52580e-02 -3.98370e-02  2.35200e-02  1.69290e-02 -8.42870e-02\n",
            "   2.05240e-02  2.54910e-02 -7.89090e-02  5.24730e-02 -1.52420e-02\n",
            "   1.67490e-02 -1.10800e-03 -1.30170e-02  6.35470e-02  1.15071e-01\n",
            "   1.21990e-02 -5.79410e-02  1.65843e-01 -5.22990e-02 -1.51983e-01\n",
            "   1.12520e-02 -4.03630e-02 -8.78800e-03  1.00688e-01  4.82970e-02\n",
            "   1.41680e-02  3.49660e-02 -5.13830e-02 -2.87650e-02  3.93270e-02]]\n"
          ]
        }
      ]
    },
    {
      "cell_type": "code",
      "execution_count": null,
      "id": "b9fe20b3",
      "metadata": {
        "id": "b9fe20b3"
      },
      "outputs": [],
      "source": [
        "# Sum vectors for each sequence instead of flattening\n",
        "protvec_summed = [embedding.sum(axis=0) for embedding in protvec_encoded]\n",
        "\n",
        "# Create DataFrame\n",
        "df_protvec = pd.DataFrame(protvec_summed)\n",
        "df_protvec['Sequence'] = sequences\n",
        "\n",
        "df_protvec.to_csv(\"protvec_summed.csv\", index=False)\n"
      ]
    },
    {
      "cell_type": "markdown",
      "id": "740a909b",
      "metadata": {
        "id": "740a909b"
      },
      "source": [
        "## Step 6: ESM-2 Embedding"
      ]
    },
    {
      "cell_type": "code",
      "source": [
        "! pip install fair-esm"
      ],
      "metadata": {
        "colab": {
          "base_uri": "https://localhost:8080/"
        },
        "id": "rBp7Haw3Al0C",
        "outputId": "0b589a05-b824-4e10-b982-2c0174a4f476"
      },
      "id": "rBp7Haw3Al0C",
      "execution_count": null,
      "outputs": [
        {
          "output_type": "stream",
          "name": "stdout",
          "text": [
            "Collecting fair-esm\n",
            "  Downloading fair_esm-2.0.0-py3-none-any.whl.metadata (37 kB)\n",
            "Downloading fair_esm-2.0.0-py3-none-any.whl (93 kB)\n",
            "\u001b[?25l   \u001b[90m━━━━━━━━━━━━━━━━━━━━━━━━━━━━━━━━━━━━━━━━\u001b[0m \u001b[32m0.0/93.1 kB\u001b[0m \u001b[31m?\u001b[0m eta \u001b[36m-:--:--\u001b[0m\r\u001b[2K   \u001b[90m━━━━━━━━━━━━━━━━━━━━━━━━━━━━━━━━━━━━━━━━\u001b[0m \u001b[32m93.1/93.1 kB\u001b[0m \u001b[31m4.4 MB/s\u001b[0m eta \u001b[36m0:00:00\u001b[0m\n",
            "\u001b[?25hInstalling collected packages: fair-esm\n",
            "Successfully installed fair-esm-2.0.0\n"
          ]
        }
      ]
    },
    {
      "cell_type": "markdown",
      "source": [
        "| Model Name               | Layers (transformers) | Parameters | Embedding Dim | Notes                        |\n",
        "|--------------------------|------------|------------|----------------|------------------------------|\n",
        "| `esm2_t6_8M_UR50D`       | 6          | 8M         | 320            | Smallest (very fast)         |\n",
        "| `esm2_t12_35M_UR50D`     | 12         | 35M        | 480            | Small/medium                 |\n",
        "| `esm2_t30_150M_UR50D`    | 30         | 150M       | 640            | Medium                       |\n",
        "| `esm2_t33_650M_UR50D`    | 33         | 650M       | 1280           | Large                        |\n",
        "| `esm2_t36_3B_UR50D`      | 36         | 3B         | 2560           | Very large (slow, high RAM) |\n",
        "| `esm2_t48_15B_UR50D`     | 48         | 15B        | 5120           | Massive                      |\n"
      ],
      "metadata": {
        "id": "vxVnbviRDD_W"
      },
      "id": "vxVnbviRDD_W"
    },
    {
      "cell_type": "code",
      "source": [
        "import torch\n",
        "import esm\n",
        "\n",
        "# Load a small pre-trained ESM-2 model (6 layers, 320-d embeddings)\n",
        "model, alphabet = esm.pretrained.esm2_t6_8M_UR50D()\n",
        "model.eval()  # Set the model to evaluation mode (no training)\n",
        "\n",
        "# This function helps convert sequences into model-friendly format\n",
        "batch_converter = alphabet.get_batch_converter()\n",
        "\n",
        "# Example: if we have a list of sequences named `sequences`\n",
        "# We create a list of tuples: (sequence ID, sequence string)\n",
        "data = []\n",
        "for i, seq in enumerate(sequences):\n",
        "    data.append((f\"seq{i}\", seq))\n",
        "print(data, \"\\n\")\n",
        "\n",
        "# Convert the data into tensors the model can understand\n",
        "batch_labels, batch_strs, batch_tokens = batch_converter(data)\n",
        "\n",
        "\n",
        "# ---------------------------------------------------------------\n",
        "print(\"Batch labels:\", batch_labels, \"\\n\")\n",
        "print(\"Batch strings:\", batch_strs, \"\\n\")\n",
        "token_to_index = {tok: i for i, tok in enumerate(alphabet.all_toks)}\n",
        "print(\"Alphabet:\", token_to_index, \"\\n\")\n",
        "print(\"Batch tokens:\\n\", batch_tokens)"
      ],
      "metadata": {
        "colab": {
          "base_uri": "https://localhost:8080/"
        },
        "id": "G4uZvN3YBrCY",
        "outputId": "bf5e864a-6683-4ebb-8644-1f1883d299c7"
      },
      "id": "G4uZvN3YBrCY",
      "execution_count": null,
      "outputs": [
        {
          "output_type": "stream",
          "name": "stderr",
          "text": [
            "Downloading: \"https://dl.fbaipublicfiles.com/fair-esm/models/esm2_t6_8M_UR50D.pt\" to /root/.cache/torch/hub/checkpoints/esm2_t6_8M_UR50D.pt\n",
            "Downloading: \"https://dl.fbaipublicfiles.com/fair-esm/regression/esm2_t6_8M_UR50D-contact-regression.pt\" to /root/.cache/torch/hub/checkpoints/esm2_t6_8M_UR50D-contact-regression.pt\n"
          ]
        },
        {
          "output_type": "stream",
          "name": "stdout",
          "text": [
            "[('seq0', 'DYDTDA'), ('seq1', 'DYSGSA'), ('seq2', 'DYSGDA'), ('seq3', 'DYDGSA'), ('seq4', 'DYSGDA'), ('seq5', 'DYTADA'), ('seq6', 'DYDYDA'), ('seq7', 'DYTNTA'), ('seq8', 'DYTGTA'), ('seq9', 'DYDRSA')] \n",
            "\n",
            "Batch labels: ['seq0', 'seq1', 'seq2', 'seq3', 'seq4', 'seq5', 'seq6', 'seq7', 'seq8', 'seq9'] \n",
            "\n",
            "Batch strings: ['DYDTDA', 'DYSGSA', 'DYSGDA', 'DYDGSA', 'DYSGDA', 'DYTADA', 'DYDYDA', 'DYTNTA', 'DYTGTA', 'DYDRSA'] \n",
            "\n",
            "Alphabet: {'<cls>': 0, '<pad>': 1, '<eos>': 2, '<unk>': 3, 'L': 4, 'A': 5, 'G': 6, 'V': 7, 'S': 8, 'E': 9, 'R': 10, 'T': 11, 'I': 12, 'D': 13, 'P': 14, 'K': 15, 'Q': 16, 'N': 17, 'F': 18, 'Y': 19, 'M': 20, 'H': 21, 'W': 22, 'C': 23, 'X': 24, 'B': 25, 'U': 26, 'Z': 27, 'O': 28, '.': 29, '-': 30, '<null_1>': 31, '<mask>': 32} \n",
            "\n",
            "Batch tokens:\n",
            " tensor([[ 0, 13, 19, 13, 11, 13,  5,  2],\n",
            "        [ 0, 13, 19,  8,  6,  8,  5,  2],\n",
            "        [ 0, 13, 19,  8,  6, 13,  5,  2],\n",
            "        [ 0, 13, 19, 13,  6,  8,  5,  2],\n",
            "        [ 0, 13, 19,  8,  6, 13,  5,  2],\n",
            "        [ 0, 13, 19, 11,  5, 13,  5,  2],\n",
            "        [ 0, 13, 19, 13, 19, 13,  5,  2],\n",
            "        [ 0, 13, 19, 11, 17, 11,  5,  2],\n",
            "        [ 0, 13, 19, 11,  6, 11,  5,  2],\n",
            "        [ 0, 13, 19, 13, 10,  8,  5,  2]])\n"
          ]
        }
      ]
    },
    {
      "cell_type": "code",
      "source": [
        "# Turn off gradient calculations – we are just making predictions\n",
        "with torch.no_grad():\n",
        "    # Get the model's output for each token in the sequence\n",
        "    results = model(batch_tokens, repr_layers=[6], return_contacts=False)\n",
        "\n",
        "# Extract the embeddings from layer 6 (this gives a tensor of shape [batch, seq_len, 320])\n",
        "embeddings = results[\"representations\"][6]\n",
        "print(f\"Embedding shape for first sequence: {embeddings[0].shape}\")\n",
        "\n",
        "# Average across the sequence length dimension to get a fixed-size vector per sequence\n",
        "sequence_representations = embeddings.mean(dim=1)  # Shape: (batch_size, 320)\n",
        "print(f\"Sequence embedding shape (for batch - 10 seq): {sequence_representations.shape}\")\n",
        "sequence_representations"
      ],
      "metadata": {
        "colab": {
          "base_uri": "https://localhost:8080/"
        },
        "id": "CRCKbM78EFfm",
        "outputId": "0d84e7f4-2e3d-4244-ed65-a4acc005ad44"
      },
      "id": "CRCKbM78EFfm",
      "execution_count": null,
      "outputs": [
        {
          "output_type": "stream",
          "name": "stdout",
          "text": [
            "Embedding shape for first sequence: torch.Size([8, 320])\n",
            "Sequence embedding shape (for batch - 10 seq): torch.Size([10, 320])\n"
          ]
        },
        {
          "output_type": "execute_result",
          "data": {
            "text/plain": [
              "tensor([[ 0.0902, -0.0035,  0.3300,  ...,  0.2311,  0.0929, -0.2184],\n",
              "        [ 0.0851, -0.1014,  0.1768,  ...,  0.3412,  0.1333, -0.1632],\n",
              "        [ 0.1078, -0.0421,  0.2863,  ...,  0.3613,  0.0653, -0.2482],\n",
              "        ...,\n",
              "        [ 0.1078, -0.0874,  0.2605,  ...,  0.2599,  0.1684, -0.1297],\n",
              "        [ 0.1645, -0.0259,  0.2483,  ...,  0.2858,  0.1580, -0.1891],\n",
              "        [ 0.0779, -0.1248,  0.2838,  ...,  0.3294,  0.1245, -0.1402]])"
            ]
          },
          "metadata": {},
          "execution_count": 16
        }
      ]
    },
    {
      "cell_type": "code",
      "source": [
        "# Convert to NumPy array so we can save to a CSV file\n",
        "sequence_representations_np = sequence_representations.cpu().numpy()\n",
        "\n",
        "# Create a DataFrame with the embeddings\n",
        "df_embeddings = pd.DataFrame(sequence_representations_np)\n",
        "\n",
        "# Extract actual sequences from your original data list\n",
        "sequences = [seq for _, seq in data]\n",
        "\n",
        "# Add the sequences as a column\n",
        "df_embeddings['Sequence'] = sequences\n",
        "\n",
        "# Move the Sequence column to the front\n",
        "columns = df_embeddings.columns.tolist()\n",
        "columns = columns[-1:] + columns[:-1]  # move 'Sequence' column to the front\n",
        "df_embeddings = df_embeddings[columns]\n",
        "\n",
        "# Save the embeddings to a CSV file\n",
        "df_embeddings.to_csv('esm2_320d_sequence_embeddings.csv', index=False)\n",
        "\n",
        "print(\"Saved 320-dimensional ESM-2 embeddings to 'esm2_320d_sequence_embeddings.csv'\")"
      ],
      "metadata": {
        "colab": {
          "base_uri": "https://localhost:8080/"
        },
        "id": "ooRYNkAcH1y6",
        "outputId": "78f948cf-b8fc-4ca2-9246-3219c9c7ec40"
      },
      "id": "ooRYNkAcH1y6",
      "execution_count": null,
      "outputs": [
        {
          "output_type": "stream",
          "name": "stdout",
          "text": [
            "Saved 320-dimensional ESM-2 embeddings to 'esm2_320d_sequence_embeddings.csv'\n"
          ]
        }
      ]
    },
    {
      "cell_type": "code",
      "source": [],
      "metadata": {
        "id": "RJ6ixk8mbTUB"
      },
      "id": "RJ6ixk8mbTUB",
      "execution_count": null,
      "outputs": []
    }
  ],
  "metadata": {
    "kernelspec": {
      "display_name": "openmm",
      "language": "python",
      "name": "python3"
    },
    "language_info": {
      "codemirror_mode": {
        "name": "ipython",
        "version": 3
      },
      "file_extension": ".py",
      "mimetype": "text/x-python",
      "name": "python",
      "nbconvert_exporter": "python",
      "pygments_lexer": "ipython3",
      "version": "3.13.5"
    },
    "colab": {
      "provenance": []
    }
  },
  "nbformat": 4,
  "nbformat_minor": 5
}