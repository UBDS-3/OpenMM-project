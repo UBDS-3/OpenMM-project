{
 "cells": [
  {
   "cell_type": "code",
   "execution_count": 65,
   "metadata": {},
   "outputs": [
    {
     "name": "stdout",
     "output_type": "stream",
     "text": [
      "<Topology; 4 chains, 340 residues, 1201 atoms, 1016 bonds>\n"
     ]
    }
   ],
   "source": [
    "from pdbfixer import PDBFixer\n",
    "\n",
    "# Load input structure from PDB file into pdbfixer\n",
    "fixer = PDBFixer('data/2x6m.pdb')\n",
    "\n",
    "# Inspect topology\n",
    "print(fixer.topology)"
   ]
  },
  {
   "cell_type": "code",
   "execution_count": 66,
   "metadata": {},
   "outputs": [
    {
     "name": "stdout",
     "output_type": "stream",
     "text": [
      " ------------------- \n",
      " Chain ID: A\n",
      "  GLY: 19 residues\n",
      "  GLN: 6 residues\n",
      "  LEU: 6 residues\n",
      "  VAL: 8 residues\n",
      "  GLU: 5 residues\n",
      "  SER: 16 residues\n",
      "  ALA: 10 residues\n",
      "  ARG: 7 residues\n",
      "  CYS: 4 residues\n",
      "  ILE: 4 residues\n",
      "  ASP: 5 residues\n",
      "  TYR: 7 residues\n",
      "  MET: 2 residues\n",
      "  TRP: 3 residues\n",
      "  PHE: 4 residues\n",
      "  PRO: 3 residues\n",
      "  LYS: 5 residues\n",
      "  ASN: 5 residues\n",
      "  THR: 6 residues\n",
      "  HIS: 1 residues\n",
      " ------------------- \n",
      " Chain ID: B\n",
      "  ASP: 1 residues\n",
      "  TYR: 1 residues\n",
      "  GLU: 2 residues\n",
      "  PRO: 1 residues\n",
      "  ALA: 1 residues\n",
      " ------------------- \n",
      " Chain ID: A\n",
      "  HOH: 194 residues\n",
      " ------------------- \n",
      " Chain ID: B\n",
      "  HOH: 14 residues\n"
     ]
    }
   ],
   "source": [
    "from collections import defaultdict\n",
    "\n",
    "for chain in fixer.topology.chains():\n",
    "    print(f' ------------------- \\n Chain ID: {chain.id}')\n",
    "    chain_residues = defaultdict(int)\n",
    "    for residue in chain.residues():\n",
    "        chain_residues[residue.name] += 1\n",
    "    for residue_name, count in chain_residues.items():\n",
    "        print(f'  {residue_name}: {count} residues')"
   ]
  },
  {
   "cell_type": "code",
   "execution_count": 67,
   "metadata": {},
   "outputs": [
    {
     "name": "stdout",
     "output_type": "stream",
     "text": [
      "<Topology; 2 chains, 132 residues, 993 atoms, 1016 bonds>\n"
     ]
    }
   ],
   "source": [
    "# Let's remove waters from the structure\n",
    "fixer.removeHeterogens(keepWater=False)\n",
    "print(fixer.topology)"
   ]
  },
  {
   "cell_type": "code",
   "execution_count": 68,
   "metadata": {},
   "outputs": [
    {
     "name": "stdout",
     "output_type": "stream",
     "text": [
      " ------------------- \n",
      " Chain ID: A\n",
      "  GLY: 19 residues\n",
      "  GLN: 6 residues\n",
      "  LEU: 6 residues\n",
      "  VAL: 8 residues\n",
      "  GLU: 5 residues\n",
      "  SER: 16 residues\n",
      "  ALA: 10 residues\n",
      "  ARG: 7 residues\n",
      "  CYS: 4 residues\n",
      "  ILE: 4 residues\n",
      "  ASP: 5 residues\n",
      "  TYR: 7 residues\n",
      "  MET: 2 residues\n",
      "  TRP: 3 residues\n",
      "  PHE: 4 residues\n",
      "  PRO: 3 residues\n",
      "  LYS: 5 residues\n",
      "  ASN: 5 residues\n",
      "  THR: 6 residues\n",
      "  HIS: 1 residues\n",
      " ------------------- \n",
      " Chain ID: B\n",
      "  ASP: 1 residues\n",
      "  TYR: 1 residues\n",
      "  GLU: 2 residues\n",
      "  PRO: 1 residues\n",
      "  ALA: 1 residues\n"
     ]
    }
   ],
   "source": [
    "# Let's repeat the previous cell\n",
    "for chain in fixer.topology.chains():\n",
    "    print(f' ------------------- \\n Chain ID: {chain.id}')\n",
    "    chain_residues = defaultdict(int)\n",
    "    for residue in chain.residues():\n",
    "        chain_residues[residue.name] += 1\n",
    "    for residue_name, count in chain_residues.items():\n",
    "        print(f'  {residue_name}: {count} residues')"
   ]
  },
  {
   "cell_type": "markdown",
   "metadata": {},
   "source": [
    "The main purpose of the PDBFixer, however, is to fix the structure:\n",
    "- Add missing residues\n",
    "- Add missing heavy atoms (for example on terminal residues or on broken residues)\n",
    "- Add hydrogens (could also be done with Modeller - other OpenMM tool)"
   ]
  },
  {
   "cell_type": "code",
   "execution_count": 69,
   "metadata": {},
   "outputs": [
    {
     "name": "stdout",
     "output_type": "stream",
     "text": [
      "Missing residues are:\n",
      " {}\n",
      "Missing atoms are:\n",
      " {}\n",
      "Missing terminals are:\n",
      " {<Residue 125 (HIS) of chain 0>: ['OXT']}\n"
     ]
    }
   ],
   "source": [
    "# So let's try to fix this structure\n",
    "fixer.findMissingResidues()\n",
    "fixer.findMissingAtoms()\n",
    "print('Missing residues are:\\n', fixer.missingResidues)\n",
    "print('Missing atoms are:\\n', fixer.missingAtoms)\n",
    "print('Missing terminals are:\\n', fixer.missingTerminals)"
   ]
  },
  {
   "cell_type": "markdown",
   "metadata": {},
   "source": [
    "How does it know about the missing atoms and missing residues?\n",
    "\n",
    "Easy, for residues - just check out the SEQRES section of your PDB file :)\n",
    "\n",
    "For atoms, PDBFixer knows the templates of standard amino acids, so it knows when some heavy atom is missing. \n",
    "By the way, the templates also give PDBFixer the information about bonds between the atoms. You can see that \n",
    "there is no CONNECT records in the PDB file, but the topology contains all the bonds.\n",
    "\n",
    "For terminals, PDBFixer checks whether the last residue of the chain has the OXT atom, if not - it will add it"
   ]
  },
  {
   "cell_type": "code",
   "execution_count": 70,
   "metadata": {},
   "outputs": [
    {
     "name": "stdout",
     "output_type": "stream",
     "text": [
      "Topology before fixing:  <Topology; 2 chains, 132 residues, 993 atoms, 1016 bonds>\n",
      "Topology after fixing:  <Topology; 2 chains, 132 residues, 994 atoms, 1017 bonds>\n"
     ]
    }
   ],
   "source": [
    "# Now let's add these atoms\n",
    "\n",
    "#For visibility, let's print the topology before and after the addition of atoms to compare\n",
    "print('Topology before fixing: ', fixer.topology)\n",
    "fixer.addMissingAtoms()\n",
    "print('Topology after fixing: ', fixer.topology)"
   ]
  },
  {
   "cell_type": "markdown",
   "metadata": {},
   "source": [
    "What regarding the Hydrogen addition? I personally prefer the Modeller hydrogen addition over the PDBFixer one, as it provides more control over the process. You can compare the functions yourself by reading their descriptions:\n",
    "\n",
    "\n",
    "Modeller's addHydrogens():\n",
    "    Add missing hydrogens to the model.\n",
    "\n",
    "    Some residues can exist in multiple forms depending on the pH and properties of the local environment. These variants differ in the presence or absence of particular hydrogens. In particular, the following variants are supported:\n",
    "\n",
    "    Aspartic acid:\n",
    "\n",
    "    ASH: Neutral form with a hydrogen on one of the delta oxygens\n",
    "    ASP: Negatively charged form without a hydrogen on either delta oxygen\n",
    "\n",
    "    Cysteine:\n",
    "\n",
    "    CYS: Neutral form with a hydrogen on the sulfur\n",
    "    CYX: No hydrogen on the sulfur (either negatively charged, or part of a disulfide bond)\n",
    "\n",
    "    Glutamic acid:\n",
    "\n",
    "    GLH: Neutral form with a hydrogen on one of the epsilon oxygens\n",
    "    GLU: Negatively charged form without a hydrogen on either epsilon oxygen\n",
    "\n",
    "    Histidine:\n",
    "\n",
    "    HID: Neutral form with a hydrogen on the ND1 atom\n",
    "    HIE: Neutral form with a hydrogen on the NE2 atom\n",
    "    HIP: Positively charged form with hydrogens on both ND1 and NE2\n",
    "    HIN: Negatively charged form without a hydrogen on either ND1 or NE2\n",
    "\n",
    "    Lysine:\n",
    "\n",
    "    LYN: Neutral form with two hydrogens on the zeta nitrogen\n",
    "    LYS: Positively charged form with three hydrogens on the zeta nitrogen\n",
    "\n",
    "    The variant to use for each residue is determined by the following rules:\n",
    "\n",
    "    The most common variant at the specified pH is selected.\n",
    "    Any Cysteine that participates in a disulfide bond uses the CYX variant regardless of pH.\n",
    "    For a neutral Histidine residue, the HID or HIE variant is selected based on which one forms a better hydrogen bond.\n",
    "    You can override these rules by explicitly specifying a variant for any residue. To do that, provide a list for the 'variants' parameter, and set the corresponding element to the name of the variant to use.\n",
    "\n",
    "    A special case is when the model already contains a hydrogen that should not be present in the desired variant. If you explicitly specify a variant using the 'variants' parameter, the residue will be modified to match the desired variant, removing hydrogens if necessary. On the other hand, for residues whose variant is selected automatically, this function will only add hydrogens. It will never remove ones that are already present in the model, regardless of the specified pH.\n",
    "\n",
    "    In all cases, the positions of existing atoms (including existing hydrogens) are not modified.\n",
    "\n",
    "    Definitions for standard amino acids and nucleotides are built in. You can call loadHydrogenDefinitions() to load additional definitions for other residue types.\n",
    "    \n",
    "    Parameters\n",
    "        forcefield : ForceField=None\n",
    "        the ForceField to use for determining the positions of hydrogens. If this is None, positions will be picked which are generally reasonable but not optimized for any particular ForceField.\n",
    "\n",
    "        pH : float=7.0\n",
    "        the pH based on which to select variants\n",
    "\n",
    "        variants : list=None\n",
    "        an optional list of variants to use. If this is specified, its length must equal the number of residues in the model. variants[i] is the name of the variant to use for residue i (indexed starting at 0). If an element is None, the standard rules will be followed to select a variant for that residue. Alternatively, an element may specify exactly which hydrogens to add. In that case, variants[i] should be a list of tuples [(name1, parent1), (name2, parent2), ...]. Each tuple specifies the name of a hydrogen and the name of the parent atom it should be bonded to.\n",
    "\n",
    "        platform : Platform=None\n",
    "        the Platform to use when computing the hydrogen atom positions. If this is None, the default Platform will be used.\n",
    "\n",
    "        residueTemplates : dict=dict()\n",
    "        specifies which template the ForceField should use for particular residues. The keys should be Residue objects from the Topology, and the values should be the names of the templates to use for them. This is useful when a ForceField contains multiple templates that can match the same residue (e.g Fe2+ and Fe3+ templates in the ForceField for a monoatomic iron ion in the Topology).\n",
    "\n",
    "PDBFixer's addMissingHydrogens():\n",
    "    Add missing hydrogen atoms to the structure.\n",
    "\n",
    "    Parameters\n",
    "    pH : float, optional, default=7.0\n",
    "    The pH based on which to select hydrogens.\n",
    "\n",
    "    forcefield : ForceField, optional, default=None\n",
    "    The forcefield used when adding and minimizing hydrogens. If None, a default forcefield is used.\n",
    "\n",
    "    Notes\n",
    "    No extensive electrostatic analysis is performed; only default residue pKas are used. The pH is only taken into account for standard amino acids.\n",
    "\n"
   ]
  },
  {
   "cell_type": "code",
   "execution_count": 71,
   "metadata": {},
   "outputs": [
    {
     "name": "stdout",
     "output_type": "stream",
     "text": [
      "Modeller topology:  <Topology; 2 chains, 132 residues, 994 atoms, 1017 bonds>\n",
      "PDBFixer topology:  <Topology; 2 chains, 132 residues, 994 atoms, 1017 bonds>\n"
     ]
    }
   ],
   "source": [
    "from openmm.app import Modeller, ForceField\n",
    "\n",
    "modeller = Modeller(fixer.topology, fixer.positions)\n",
    "print('Modeller topology: ', modeller.topology)\n",
    "print('PDBFixer topology: ', fixer.topology)"
   ]
  },
  {
   "cell_type": "code",
   "execution_count": 72,
   "metadata": {},
   "outputs": [],
   "source": [
    "# To add hydrogens we need to initialize forcefield parameters. We will come back to forcefield details\n",
    "# later, so for now let's just do it\n",
    "\n",
    "ff = ForceField('amber14-all.xml', 'amber14/tip3p.xml')"
   ]
  },
  {
   "cell_type": "code",
   "execution_count": 73,
   "metadata": {},
   "outputs": [
    {
     "name": "stdout",
     "output_type": "stream",
     "text": [
      "Residue 20: CYX\n",
      "Residue 31: CYX\n",
      "Residue 95: CYX\n",
      "Residue 104: CYX\n",
      "Residue 125: HID\n",
      "New Modeller topology: <Topology; 2 chains, 132 residues, 1921 atoms, 1944 bonds>\n"
     ]
    }
   ],
   "source": [
    "# Now let's actually add hydrogens, and see what residues Modeller changed\n",
    "variants = modeller.addHydrogens(forcefield=ff)\n",
    "for i, res in enumerate(variants):\n",
    "    if res:\n",
    "        print(f'Residue {i}: {res}')\n",
    "print(f\"New Modeller topology: {modeller.topology}\")"
   ]
  },
  {
   "cell_type": "code",
   "execution_count": 74,
   "metadata": {},
   "outputs": [],
   "source": [
    "# Great, now we finished preparation of input structure - let's save it\n",
    "\n",
    "from openmm.app import PDBFile\n",
    "\n",
    "PDBFile.writeFile(modeller.topology, modeller.positions, file=open('data/prep_complex.pdb', 'wt'), keepIds=True)"
   ]
  },
  {
   "cell_type": "code",
   "execution_count": 75,
   "metadata": {},
   "outputs": [
    {
     "name": "stdout",
     "output_type": "stream",
     "text": [
      "Saved structure topology: <Topology; 2 chains, 132 residues, 1921 atoms, 1944 bonds>\n",
      "Loaded strucutre topology: <Topology; 2 chains, 132 residues, 1921 atoms, 1944 bonds>\n"
     ]
    }
   ],
   "source": [
    "# Using PDBFile you can both write and read the files. You don't need to use PDBFixer each time\n",
    "\n",
    "loaded_structure = PDBFile('data/prep_complex.pdb')\n",
    "print(f\"Saved structure topology: {modeller.topology}\")\n",
    "print(f\"Loaded strucutre topology: {loaded_structure.topology}\")\n"
   ]
  },
  {
   "cell_type": "markdown",
   "metadata": {},
   "source": [
    "What about mutations? We can do them with PDBFixer!\n",
    "\n",
    "It is done with applyMutations() function of PDBFixer object.\n",
    "\n",
    "For this, you need to provide the mutations list and the chain id of the chain, where the mutations should be applied\n",
    "\n",
    "the mutation list should contain the mutation in the form of strings.\n",
    "\n",
    "Each string must include the resName (original), id, and resName (target). For example, ALA-133-GLY will mutate alanine 133 to glycine."
   ]
  },
  {
   "cell_type": "code",
   "execution_count": 79,
   "metadata": {},
   "outputs": [
    {
     "name": "stdout",
     "output_type": "stream",
     "text": [
      "Peptide residue ASP has original ID (from PDB) 135\n",
      "Peptide residue TYR has original ID (from PDB) 136\n",
      "Peptide residue GLU has original ID (from PDB) 137\n",
      "Peptide residue PRO has original ID (from PDB) 138\n",
      "Peptide residue GLU has original ID (from PDB) 139\n",
      "Peptide residue ALA has original ID (from PDB) 140\n"
     ]
    }
   ],
   "source": [
    "#Let's first print the residues of our peptide\n",
    "\n",
    "loaded_structure_pdbfixer = PDBFixer('data/prep_complex.pdb')\n",
    "\n",
    "peptide_chain_id = 'B'\n",
    "\n",
    "for residue in loaded_structure_pdbfixer.topology.residues():\n",
    "    if residue.chain.id == peptide_chain_id:\n",
    "        print(f\"Peptide residue {residue.name} has original ID (from PDB) {residue.id}\")"
   ]
  },
  {
   "cell_type": "markdown",
   "metadata": {},
   "source": [
    "Let's inspect the structure. For this, let's use the Protein Viewer extension in VSCode. Navigate to the VSCode Extensions, Install the Protein Viewer. Then right click on the data/prep_complex.pdb file and open it with Protein Viewer\n",
    "\n",
    "You can see that the AA closest to the binding pocket of the nanobody is ALA 140\n",
    "\n",
    "Let's mutate the next 3 AAs to alanine"
   ]
  },
  {
   "cell_type": "code",
   "execution_count": 81,
   "metadata": {},
   "outputs": [
    {
     "name": "stdout",
     "output_type": "stream",
     "text": [
      "the original topology: <Topology; 2 chains, 132 residues, 1921 atoms, 1944 bonds>\n",
      "Peptide residue ASP has original ID (from PDB) 135\n",
      "Peptide residue TYR has original ID (from PDB) 136\n",
      "Peptide residue ALA has original ID (from PDB) 137\n",
      "Peptide residue ALA has original ID (from PDB) 138\n",
      "Peptide residue ALA has original ID (from PDB) 139\n",
      "Peptide residue ALA has original ID (from PDB) 140\n",
      "the mutated topology: <Topology; 2 chains, 132 residues, 1892 atoms, 1914 bonds>\n"
     ]
    }
   ],
   "source": [
    "mutations = ['GLU-139-ALA',\n",
    "             'PRO-138-ALA',\n",
    "             'GLU-137-ALA']\n",
    "\n",
    "print(f\"the original topology: {loaded_structure_pdbfixer.topology}\")\n",
    "\n",
    "loaded_structure_pdbfixer.applyMutations(mutations=mutations, chain_id='B')\n",
    "\n",
    "for residue in loaded_structure_pdbfixer.topology.residues():\n",
    "    if residue.chain.id == peptide_chain_id:\n",
    "        print(f\"Peptide residue {residue.name} has original ID (from PDB) {residue.id}\")\n",
    "\n",
    "print(f\"the mutated topology: {loaded_structure_pdbfixer.topology}\")"
   ]
  },
  {
   "cell_type": "markdown",
   "metadata": {},
   "source": [
    "Let's check whether there are any missing atoms"
   ]
  },
  {
   "cell_type": "code",
   "execution_count": 82,
   "metadata": {},
   "outputs": [
    {
     "name": "stdout",
     "output_type": "stream",
     "text": [
      "Missing residues are:\n",
      " {}\n",
      "Missing atoms are:\n",
      " {}\n",
      "Missing terminals are:\n",
      " {}\n",
      "Topology before fixing:  <Topology; 2 chains, 132 residues, 1892 atoms, 1914 bonds>\n",
      "Topology after fixing:  <Topology; 2 chains, 132 residues, 1892 atoms, 1914 bonds>\n"
     ]
    }
   ],
   "source": [
    "# Let's try to find the missing parts\n",
    "loaded_structure_pdbfixer.findMissingResidues()\n",
    "loaded_structure_pdbfixer.findMissingAtoms()\n",
    "print('Missing residues are:\\n', loaded_structure_pdbfixer.missingResidues)\n",
    "print('Missing atoms are:\\n', loaded_structure_pdbfixer.missingAtoms)\n",
    "print('Missing terminals are:\\n', loaded_structure_pdbfixer.missingTerminals)\n",
    "print('Topology before fixing: ', loaded_structure_pdbfixer.topology)\n",
    "loaded_structure_pdbfixer.addMissingAtoms()\n",
    "print('Topology after fixing: ', loaded_structure_pdbfixer.topology)\n"
   ]
  },
  {
   "cell_type": "markdown",
   "metadata": {},
   "source": [
    "As you can see - no missing atoms. But to convert GLU or PRO to ALA, we only need to delete atoms. What if we mutuate to something bigger instead?"
   ]
  },
  {
   "cell_type": "code",
   "execution_count": 83,
   "metadata": {},
   "outputs": [
    {
     "name": "stdout",
     "output_type": "stream",
     "text": [
      "Missing residues are:\n",
      " {}\n",
      "Missing atoms are:\n",
      " {<Residue 130 (PHE) of chain 1>: [<Atom 4 (CD1) of chain 0 residue 0 (PHE)>, <Atom 5 (CE1) of chain 0 residue 0 (PHE)>, <Atom 6 (CZ) of chain 0 residue 0 (PHE)>, <Atom 7 (CE2) of chain 0 residue 0 (PHE)>, <Atom 8 (CD2) of chain 0 residue 0 (PHE)>]}\n",
      "Missing terminals are:\n",
      " {}\n",
      "Topology before fixing:  <Topology; 2 chains, 132 residues, 1912 atoms, 1935 bonds>\n",
      "Topology after fixing:  <Topology; 2 chains, 132 residues, 1917 atoms, 1941 bonds>\n"
     ]
    }
   ],
   "source": [
    "loaded_structure_pdbfixer_test = PDBFixer('data/prep_complex.pdb')\n",
    "\n",
    "mutations = ['GLU-139-PHE']\n",
    "\n",
    "loaded_structure_pdbfixer_test.applyMutations(mutations=mutations, chain_id='B')\n",
    "\n",
    "loaded_structure_pdbfixer_test.findMissingResidues()\n",
    "loaded_structure_pdbfixer_test.findMissingAtoms()\n",
    "print('Missing residues are:\\n', loaded_structure_pdbfixer_test.missingResidues)\n",
    "print('Missing atoms are:\\n', loaded_structure_pdbfixer_test.missingAtoms)\n",
    "print('Missing terminals are:\\n', loaded_structure_pdbfixer_test.missingTerminals)\n",
    "print('Topology before fixing: ', loaded_structure_pdbfixer_test.topology)\n",
    "loaded_structure_pdbfixer_test.addMissingAtoms()\n",
    "print('Topology after fixing: ', loaded_structure_pdbfixer_test.topology)"
   ]
  },
  {
   "cell_type": "markdown",
   "metadata": {},
   "source": [
    "As you can see - when we mutating to bigger sidechain - we need to addMissingAtoms()\n",
    "\n",
    "So when mutating amino acids with pdbfixer - remember to call findMissingResidues() --> findMissingAtoms() --> addMissingAtoms()"
   ]
  },
  {
   "cell_type": "markdown",
   "metadata": {},
   "source": [
    "Let's return to our first mutant structure, where we mutated 3 AAs to alanine. I wonder whether we assigned hydrogens to this structure?"
   ]
  },
  {
   "cell_type": "code",
   "execution_count": 96,
   "metadata": {},
   "outputs": [
    {
     "name": "stdout",
     "output_type": "stream",
     "text": [
      "Residue ALA137 contains atoms:\n",
      "Atom 'N', of element: nitrogen\n",
      "Atom 'CA', of element: carbon\n",
      "Atom 'C', of element: carbon\n",
      "Atom 'O', of element: oxygen\n",
      "Atom 'CB', of element: carbon\n",
      "Residue ALA138 contains atoms:\n",
      "Atom 'N', of element: nitrogen\n",
      "Atom 'CA', of element: carbon\n",
      "Atom 'C', of element: carbon\n",
      "Atom 'O', of element: oxygen\n",
      "Atom 'CB', of element: carbon\n",
      "Residue ALA139 contains atoms:\n",
      "Atom 'N', of element: nitrogen\n",
      "Atom 'CA', of element: carbon\n",
      "Atom 'C', of element: carbon\n",
      "Atom 'O', of element: oxygen\n",
      "Atom 'CB', of element: carbon\n"
     ]
    }
   ],
   "source": [
    "for residue in loaded_structure_pdbfixer.topology.residues():\n",
    "    if residue.chain.id == 'B' and residue.id in ['137', '138', '139']:\n",
    "        print(f\"Residue {residue.name}{residue.id} contains atoms:\")\n",
    "        for atom in residue.atoms():\n",
    "            print(f\"Atom '{atom.name}', of element: {atom.element.name}\")"
   ]
  },
  {
   "cell_type": "markdown",
   "metadata": {},
   "source": [
    "As you can see - no hydrogens. So let's add them with Modeller as we done previously"
   ]
  },
  {
   "cell_type": "code",
   "execution_count": 97,
   "metadata": {},
   "outputs": [
    {
     "name": "stdout",
     "output_type": "stream",
     "text": [
      "Init topology: <Topology; 2 chains, 132 residues, 1892 atoms, 1914 bonds>\n",
      "New Modeller topology: <Topology; 2 chains, 132 residues, 1907 atoms, 1929 bonds>\n"
     ]
    }
   ],
   "source": [
    "from openmm.app import Modeller, ForceField\n",
    "\n",
    "print(f\"Init topology: {loaded_structure_pdbfixer.topology}\")\n",
    "\n",
    "modeller = Modeller(loaded_structure_pdbfixer.topology, loaded_structure_pdbfixer.positions)\n",
    "\n",
    "ff = ForceField('amber14-all.xml', 'amber14/tip3p.xml')\n",
    "\n",
    "modeller.addHydrogens(forcefield=ff)\n",
    "\n",
    "print(f\"New Modeller topology: {modeller.topology}\")"
   ]
  },
  {
   "cell_type": "code",
   "execution_count": 98,
   "metadata": {},
   "outputs": [],
   "source": [
    "# Great, now we finished preparation of input structure - let's save it\n",
    "\n",
    "from openmm.app import PDBFile\n",
    "\n",
    "PDBFile.writeFile(modeller.topology, modeller.positions, file=open('data/prep_complex_AAA.pdb', 'wt'), keepIds=True)"
   ]
  }
 ],
 "metadata": {
  "kernelspec": {
   "display_name": "openmm-2",
   "language": "python",
   "name": "python3"
  },
  "language_info": {
   "codemirror_mode": {
    "name": "ipython",
    "version": 3
   },
   "file_extension": ".py",
   "mimetype": "text/x-python",
   "name": "python",
   "nbconvert_exporter": "python",
   "pygments_lexer": "ipython3",
   "version": "3.11.8"
  }
 },
 "nbformat": 4,
 "nbformat_minor": 2
}
