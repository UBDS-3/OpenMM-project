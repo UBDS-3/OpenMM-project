{
 "cells": [
  {
   "cell_type": "code",
   "execution_count": 17,
   "metadata": {},
   "outputs": [],
   "source": [
    "from openmm.app import PDBFile, Modeller\n",
    "from pdbfixer import PDBFixer\n",
    "import pandas as pd\n",
    "from collections import defaultdict"
   ]
  },
  {
   "cell_type": "code",
   "execution_count": 19,
   "metadata": {},
   "outputs": [],
   "source": [
    "df = pd.read_csv('peptide_mutants_students.csv')\n",
    "student_combs = defaultdict(list)\n",
    "for student in set(df['Student'].values):\n",
    "    for i, row in df[df['Student'] == student].iterrows():\n",
    "        student_combs[student].append({k:row[k] for k in row.keys() if k != 'Student'})"
   ]
  },
  {
   "cell_type": "code",
   "execution_count": 23,
   "metadata": {},
   "outputs": [],
   "source": [
    "# Check for duplicates\n",
    "for student, data in student_combs.items():\n",
    "    for d in data:\n",
    "        for student2, data2 in student_combs.items():\n",
    "            if student != student2:\n",
    "                for d2 in data2:\n",
    "                    if all([d[k] == d2[k] for k in d.keys()]):\n",
    "                        print(f\"Duplicate found\")"
   ]
  },
  {
   "cell_type": "code",
   "execution_count": 30,
   "metadata": {},
   "outputs": [],
   "source": [
    "from pathlib import Path\n",
    "\n",
    "def get_res_name_by_id(struc:PDBFixer, id, chainid):\n",
    "    for res in struc.topology.residues():\n",
    "        if int(res.id) == int(id) and res.chain.id == chainid:\n",
    "            return res.name\n",
    "\n",
    "def create_mutant(fpath, resids, mut_reses, chainid):\n",
    "    struc = PDBFixer(fpath)\n",
    "\n",
    "    mutants = []\n",
    "\n",
    "    for resid, mut_res in zip(resids, mut_reses):\n",
    "        orig_res = get_res_name_by_id(struc, resid, chainid)\n",
    "        mutants.append(f\"{orig_res}-{resid}-{mut_res}\")\n",
    "\n",
    "    struc.applyMutations(mutations=mutants, chain_id=chainid)\n",
    "    struc.findMissingResidues()\n",
    "    struc.findMissingAtoms()\n",
    "    struc.addMissingAtoms()\n",
    "    struc.addMissingHydrogens()\n",
    "\n",
    "    return struc\n",
    "\n",
    "\n",
    "fpath = 'prep_complex.pdb'\n",
    "\n",
    "for student, data in student_combs.items():\n",
    "    for d in data:\n",
    "        mut_name = '-'.join(list(d.values()))\n",
    "        mutant_dir = Path(student) / mut_name\n",
    "        mutant_dir.mkdir(parents=True, exist_ok=True)\n",
    "        \n",
    "        mutant = create_mutant(fpath, list(d.keys()), list(d.values()), 'B')\n",
    "        PDBFile.writeFile(mutant.topology, mutant.positions, \n",
    "                          str(mutant_dir / f\"{mut_name}.pdb\"),\n",
    "                          keepIds=True)"
   ]
  },
  {
   "cell_type": "code",
   "execution_count": 2,
   "metadata": {},
   "outputs": [],
   "source": [
    "from openmm.app import Modeller, PDBFile\n",
    "\n",
    "from pathlib import Path\n",
    "\n",
    "current_path = Path('.')\n",
    "\n",
    "for parent_path in current_path.iterdir():\n",
    "    new_path = Path(f'{parent_path.stem}_pept')\n",
    "\n",
    "    pdbfiles = parent_path.rglob('*.pdb')\n",
    "    for pdb_file in pdbfiles:\n",
    "        pdb_struc = PDBFile(str(pdb_file))\n",
    "        modeller = Modeller(pdb_struc.topology, pdb_struc.positions)\n",
    "        protein_atoms = [atom for atom in modeller.topology.atoms() if atom.residue.chain.id == 'A']\n",
    "        modeller.delete(protein_atoms)\n",
    "        out_file_dir = new_path / pdb_file.parent.stem\n",
    "        out_file_dir.mkdir(parents=True, exist_ok=True)\n",
    "        PDBFile.writeFile(modeller.topology, modeller.positions, str(out_file_dir / f\"{pdb_file.parent.stem}.pdb\"), keepIds=True)"
   ]
  },
  {
   "cell_type": "code",
   "execution_count": null,
   "metadata": {},
   "outputs": [],
   "source": []
  }
 ],
 "metadata": {
  "kernelspec": {
   "display_name": "openmm-2",
   "language": "python",
   "name": "python3"
  },
  "language_info": {
   "codemirror_mode": {
    "name": "ipython",
    "version": 3
   },
   "file_extension": ".py",
   "mimetype": "text/x-python",
   "name": "python",
   "nbconvert_exporter": "python",
   "pygments_lexer": "ipython3",
   "version": "3.11.8"
  }
 },
 "nbformat": 4,
 "nbformat_minor": 2
}
